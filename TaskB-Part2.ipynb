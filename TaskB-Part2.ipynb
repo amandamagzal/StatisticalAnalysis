{
 "cells": [
  {
   "cell_type": "markdown",
   "metadata": {},
   "source": [
    "# Task B - Part 2\n",
    "## Statistical Analysis of Big Data\n",
    "\n",
    "Amanda Magzal 207608647"
   ]
  },
  {
   "cell_type": "markdown",
   "metadata": {},
   "source": [
    "***"
   ]
  },
  {
   "cell_type": "markdown",
   "metadata": {},
   "source": [
    "# Table of Contents\n",
    "## 1 [Introduction](#section1)\n",
    "\n",
    "## 2 [Setup](#section2)\n",
    "\n",
    "## 3 [Sampling Methods](#section3)\n",
    "\n",
    "### 3.1 [Original Data](#section3.1)\n",
    "* 3.1.1 [Logistic Regression](#section3.1.1)\n",
    "* 3.1.2 [SVM - Linear Kernel](#section3.1.2)\n",
    "* 3.1.3 [Random Forest](#section3.1.3)\n",
    "* 3.1.4 [Gradient Tree Boosting](#section3.1.4)\n",
    "\n",
    "### 3.2 [SMOTE](#section3.2)\n",
    "* 3.2.1 [Logistic Regression](#section3.2.1)\n",
    "* 3.2.2 [SVM - Linear Kernel](#section3.2.2)\n",
    "* 3.2.3 [Random Forest](#section3.2.3)\n",
    "* 3.2.4 [Gradient Tree Boosting](#section3.2.4)\n",
    "\n",
    "### 3.3 [Random Oversampling](#section3.3)\n",
    "* 3.3.1 [Logistic Regression](#section3.3.1)\n",
    "* 3.3.2 [SVM - Linear Kernel](#section3.3.2)\n",
    "* 3.3.3 [Random Forest](#section3.3.3)\n",
    "* 3.3.4 [Gradient Tree Boosting](#section3.3.4)\n",
    "\n",
    "### 3.4 [Random Undersampling](#section3.4)\n",
    "* 3.4.1 [Logistic Regression](#section3.4.1)\n",
    "* 3.4.2 [SVM - Linear Kernel](#section3.4.2)\n",
    "* 3.4.3 [Random Forest](#section3.4.3)\n",
    "* 3.4.4 [Gradient Tree Boosting](#section3.4.4)\n",
    "\n",
    "## 4 [Comparison](#section4)"
   ]
  },
  {
   "cell_type": "markdown",
   "metadata": {},
   "source": [
    "***"
   ]
  },
  {
   "cell_type": "markdown",
   "metadata": {},
   "source": [
    "# 1 Introduction <a class=\"anchor\" id=\"section1\"></a>"
   ]
  },
  {
   "cell_type": "markdown",
   "metadata": {},
   "source": [
    "In this project, I study imbalanced classification and its impact on classification algorithms.\n",
    "\n",
    "In part 1, I developed a statistical model for imbalanced classification, and used a Monte Carlo simulation in order to study via training-testing procedures the classification accuracy of logistic regression, taking into account the model I developed.\n",
    "\n",
    "In part 2, I explore different sampling methods used to improve the performance of machine learning algorithms in identification of the minority class."
   ]
  },
  {
   "cell_type": "markdown",
   "metadata": {},
   "source": [
    "***"
   ]
  },
  {
   "cell_type": "markdown",
   "metadata": {},
   "source": [
    "# 2 Setup <a class=\"anchor\" id=\"section2\"></a>"
   ]
  },
  {
   "cell_type": "markdown",
   "metadata": {},
   "source": [
    "In this section, I setup the libraries and data used for this part of the project. The data wranglig is identical to part 1."
   ]
  },
  {
   "cell_type": "code",
   "execution_count": 1,
   "metadata": {},
   "outputs": [],
   "source": [
    "# import relevant libraries\n",
    "import pandas as pd\n",
    "import numpy as np\n",
    "import seaborn as sns\n",
    "import matplotlib.pyplot as plt\n",
    "from sklearn.preprocessing import StandardScaler\n",
    "from imblearn.over_sampling import SMOTE, RandomOverSampler\n",
    "from imblearn.under_sampling import RandomUnderSampler\n",
    "from sklearn.model_selection import train_test_split, GridSearchCV\n",
    "from sklearn import metrics \n",
    "from sklearn.linear_model import LogisticRegression\n",
    "from sklearn.svm import SVC\n",
    "from sklearn.ensemble import RandomForestClassifier, GradientBoostingClassifier"
   ]
  },
  {
   "cell_type": "code",
   "execution_count": 2,
   "metadata": {},
   "outputs": [
    {
     "data": {
      "text/html": [
       "<style  type=\"text/css\" >\n",
       "    #T_18895487_c0a4_11eb_aaf7_c8d9d2948c29 th {\n",
       "          text-align: center;\n",
       "    }#T_18895487_c0a4_11eb_aaf7_c8d9d2948c29row0_col0,#T_18895487_c0a4_11eb_aaf7_c8d9d2948c29row0_col1,#T_18895487_c0a4_11eb_aaf7_c8d9d2948c29row0_col2,#T_18895487_c0a4_11eb_aaf7_c8d9d2948c29row0_col3,#T_18895487_c0a4_11eb_aaf7_c8d9d2948c29row0_col4,#T_18895487_c0a4_11eb_aaf7_c8d9d2948c29row0_col5,#T_18895487_c0a4_11eb_aaf7_c8d9d2948c29row0_col6,#T_18895487_c0a4_11eb_aaf7_c8d9d2948c29row0_col7,#T_18895487_c0a4_11eb_aaf7_c8d9d2948c29row0_col8,#T_18895487_c0a4_11eb_aaf7_c8d9d2948c29row0_col9,#T_18895487_c0a4_11eb_aaf7_c8d9d2948c29row0_col10,#T_18895487_c0a4_11eb_aaf7_c8d9d2948c29row0_col11,#T_18895487_c0a4_11eb_aaf7_c8d9d2948c29row0_col12,#T_18895487_c0a4_11eb_aaf7_c8d9d2948c29row0_col13,#T_18895487_c0a4_11eb_aaf7_c8d9d2948c29row0_col14,#T_18895487_c0a4_11eb_aaf7_c8d9d2948c29row0_col15,#T_18895487_c0a4_11eb_aaf7_c8d9d2948c29row0_col16,#T_18895487_c0a4_11eb_aaf7_c8d9d2948c29row0_col17,#T_18895487_c0a4_11eb_aaf7_c8d9d2948c29row0_col18,#T_18895487_c0a4_11eb_aaf7_c8d9d2948c29row0_col19,#T_18895487_c0a4_11eb_aaf7_c8d9d2948c29row1_col0,#T_18895487_c0a4_11eb_aaf7_c8d9d2948c29row1_col1,#T_18895487_c0a4_11eb_aaf7_c8d9d2948c29row1_col2,#T_18895487_c0a4_11eb_aaf7_c8d9d2948c29row1_col3,#T_18895487_c0a4_11eb_aaf7_c8d9d2948c29row1_col4,#T_18895487_c0a4_11eb_aaf7_c8d9d2948c29row1_col5,#T_18895487_c0a4_11eb_aaf7_c8d9d2948c29row1_col6,#T_18895487_c0a4_11eb_aaf7_c8d9d2948c29row1_col7,#T_18895487_c0a4_11eb_aaf7_c8d9d2948c29row1_col8,#T_18895487_c0a4_11eb_aaf7_c8d9d2948c29row1_col9,#T_18895487_c0a4_11eb_aaf7_c8d9d2948c29row1_col10,#T_18895487_c0a4_11eb_aaf7_c8d9d2948c29row1_col11,#T_18895487_c0a4_11eb_aaf7_c8d9d2948c29row1_col12,#T_18895487_c0a4_11eb_aaf7_c8d9d2948c29row1_col13,#T_18895487_c0a4_11eb_aaf7_c8d9d2948c29row1_col14,#T_18895487_c0a4_11eb_aaf7_c8d9d2948c29row1_col15,#T_18895487_c0a4_11eb_aaf7_c8d9d2948c29row1_col16,#T_18895487_c0a4_11eb_aaf7_c8d9d2948c29row1_col17,#T_18895487_c0a4_11eb_aaf7_c8d9d2948c29row1_col18,#T_18895487_c0a4_11eb_aaf7_c8d9d2948c29row1_col19,#T_18895487_c0a4_11eb_aaf7_c8d9d2948c29row2_col0,#T_18895487_c0a4_11eb_aaf7_c8d9d2948c29row2_col1,#T_18895487_c0a4_11eb_aaf7_c8d9d2948c29row2_col2,#T_18895487_c0a4_11eb_aaf7_c8d9d2948c29row2_col3,#T_18895487_c0a4_11eb_aaf7_c8d9d2948c29row2_col4,#T_18895487_c0a4_11eb_aaf7_c8d9d2948c29row2_col5,#T_18895487_c0a4_11eb_aaf7_c8d9d2948c29row2_col6,#T_18895487_c0a4_11eb_aaf7_c8d9d2948c29row2_col7,#T_18895487_c0a4_11eb_aaf7_c8d9d2948c29row2_col8,#T_18895487_c0a4_11eb_aaf7_c8d9d2948c29row2_col9,#T_18895487_c0a4_11eb_aaf7_c8d9d2948c29row2_col10,#T_18895487_c0a4_11eb_aaf7_c8d9d2948c29row2_col11,#T_18895487_c0a4_11eb_aaf7_c8d9d2948c29row2_col12,#T_18895487_c0a4_11eb_aaf7_c8d9d2948c29row2_col13,#T_18895487_c0a4_11eb_aaf7_c8d9d2948c29row2_col14,#T_18895487_c0a4_11eb_aaf7_c8d9d2948c29row2_col15,#T_18895487_c0a4_11eb_aaf7_c8d9d2948c29row2_col16,#T_18895487_c0a4_11eb_aaf7_c8d9d2948c29row2_col17,#T_18895487_c0a4_11eb_aaf7_c8d9d2948c29row2_col18,#T_18895487_c0a4_11eb_aaf7_c8d9d2948c29row2_col19,#T_18895487_c0a4_11eb_aaf7_c8d9d2948c29row3_col0,#T_18895487_c0a4_11eb_aaf7_c8d9d2948c29row3_col1,#T_18895487_c0a4_11eb_aaf7_c8d9d2948c29row3_col2,#T_18895487_c0a4_11eb_aaf7_c8d9d2948c29row3_col3,#T_18895487_c0a4_11eb_aaf7_c8d9d2948c29row3_col4,#T_18895487_c0a4_11eb_aaf7_c8d9d2948c29row3_col5,#T_18895487_c0a4_11eb_aaf7_c8d9d2948c29row3_col6,#T_18895487_c0a4_11eb_aaf7_c8d9d2948c29row3_col7,#T_18895487_c0a4_11eb_aaf7_c8d9d2948c29row3_col8,#T_18895487_c0a4_11eb_aaf7_c8d9d2948c29row3_col9,#T_18895487_c0a4_11eb_aaf7_c8d9d2948c29row3_col10,#T_18895487_c0a4_11eb_aaf7_c8d9d2948c29row3_col11,#T_18895487_c0a4_11eb_aaf7_c8d9d2948c29row3_col12,#T_18895487_c0a4_11eb_aaf7_c8d9d2948c29row3_col13,#T_18895487_c0a4_11eb_aaf7_c8d9d2948c29row3_col14,#T_18895487_c0a4_11eb_aaf7_c8d9d2948c29row3_col15,#T_18895487_c0a4_11eb_aaf7_c8d9d2948c29row3_col16,#T_18895487_c0a4_11eb_aaf7_c8d9d2948c29row3_col17,#T_18895487_c0a4_11eb_aaf7_c8d9d2948c29row3_col18,#T_18895487_c0a4_11eb_aaf7_c8d9d2948c29row3_col19,#T_18895487_c0a4_11eb_aaf7_c8d9d2948c29row4_col0,#T_18895487_c0a4_11eb_aaf7_c8d9d2948c29row4_col1,#T_18895487_c0a4_11eb_aaf7_c8d9d2948c29row4_col2,#T_18895487_c0a4_11eb_aaf7_c8d9d2948c29row4_col3,#T_18895487_c0a4_11eb_aaf7_c8d9d2948c29row4_col4,#T_18895487_c0a4_11eb_aaf7_c8d9d2948c29row4_col5,#T_18895487_c0a4_11eb_aaf7_c8d9d2948c29row4_col6,#T_18895487_c0a4_11eb_aaf7_c8d9d2948c29row4_col7,#T_18895487_c0a4_11eb_aaf7_c8d9d2948c29row4_col8,#T_18895487_c0a4_11eb_aaf7_c8d9d2948c29row4_col9,#T_18895487_c0a4_11eb_aaf7_c8d9d2948c29row4_col10,#T_18895487_c0a4_11eb_aaf7_c8d9d2948c29row4_col11,#T_18895487_c0a4_11eb_aaf7_c8d9d2948c29row4_col12,#T_18895487_c0a4_11eb_aaf7_c8d9d2948c29row4_col13,#T_18895487_c0a4_11eb_aaf7_c8d9d2948c29row4_col14,#T_18895487_c0a4_11eb_aaf7_c8d9d2948c29row4_col15,#T_18895487_c0a4_11eb_aaf7_c8d9d2948c29row4_col16,#T_18895487_c0a4_11eb_aaf7_c8d9d2948c29row4_col17,#T_18895487_c0a4_11eb_aaf7_c8d9d2948c29row4_col18,#T_18895487_c0a4_11eb_aaf7_c8d9d2948c29row4_col19{\n",
       "            text-align:  center;\n",
       "        }</style><table id=\"T_18895487_c0a4_11eb_aaf7_c8d9d2948c29\" ><thead>    <tr>        <th class=\"blank level0\" ></th>        <th class=\"col_heading level0 col0\" >Unnamed: 0</th>        <th class=\"col_heading level0 col1\" >ID</th>        <th class=\"col_heading level0 col2\" >GENDER</th>        <th class=\"col_heading level0 col3\" >CAR</th>        <th class=\"col_heading level0 col4\" >REALITY</th>        <th class=\"col_heading level0 col5\" >NO_OF_CHILD</th>        <th class=\"col_heading level0 col6\" >INCOME</th>        <th class=\"col_heading level0 col7\" >INCOME_TYPE</th>        <th class=\"col_heading level0 col8\" >EDUCATION_TYPE</th>        <th class=\"col_heading level0 col9\" >FAMILY_TYPE</th>        <th class=\"col_heading level0 col10\" >HOUSE_TYPE</th>        <th class=\"col_heading level0 col11\" >FLAG_MOBIL</th>        <th class=\"col_heading level0 col12\" >WORK_PHONE</th>        <th class=\"col_heading level0 col13\" >PHONE</th>        <th class=\"col_heading level0 col14\" >E_MAIL</th>        <th class=\"col_heading level0 col15\" >FAMILY SIZE</th>        <th class=\"col_heading level0 col16\" >BEGIN_MONTH</th>        <th class=\"col_heading level0 col17\" >AGE</th>        <th class=\"col_heading level0 col18\" >YEARS_EMPLOYED</th>        <th class=\"col_heading level0 col19\" >TARGET</th>    </tr></thead><tbody>\n",
       "                <tr>\n",
       "                        <th id=\"T_18895487_c0a4_11eb_aaf7_c8d9d2948c29level0_row0\" class=\"row_heading level0 row0\" >0</th>\n",
       "                        <td id=\"T_18895487_c0a4_11eb_aaf7_c8d9d2948c29row0_col0\" class=\"data row0 col0\" >0</td>\n",
       "                        <td id=\"T_18895487_c0a4_11eb_aaf7_c8d9d2948c29row0_col1\" class=\"data row0 col1\" >5008806</td>\n",
       "                        <td id=\"T_18895487_c0a4_11eb_aaf7_c8d9d2948c29row0_col2\" class=\"data row0 col2\" >M</td>\n",
       "                        <td id=\"T_18895487_c0a4_11eb_aaf7_c8d9d2948c29row0_col3\" class=\"data row0 col3\" >Y</td>\n",
       "                        <td id=\"T_18895487_c0a4_11eb_aaf7_c8d9d2948c29row0_col4\" class=\"data row0 col4\" >Y</td>\n",
       "                        <td id=\"T_18895487_c0a4_11eb_aaf7_c8d9d2948c29row0_col5\" class=\"data row0 col5\" >0</td>\n",
       "                        <td id=\"T_18895487_c0a4_11eb_aaf7_c8d9d2948c29row0_col6\" class=\"data row0 col6\" >112500.000000</td>\n",
       "                        <td id=\"T_18895487_c0a4_11eb_aaf7_c8d9d2948c29row0_col7\" class=\"data row0 col7\" >Working</td>\n",
       "                        <td id=\"T_18895487_c0a4_11eb_aaf7_c8d9d2948c29row0_col8\" class=\"data row0 col8\" >Secondary / secondary special</td>\n",
       "                        <td id=\"T_18895487_c0a4_11eb_aaf7_c8d9d2948c29row0_col9\" class=\"data row0 col9\" >Married</td>\n",
       "                        <td id=\"T_18895487_c0a4_11eb_aaf7_c8d9d2948c29row0_col10\" class=\"data row0 col10\" >House / apartment</td>\n",
       "                        <td id=\"T_18895487_c0a4_11eb_aaf7_c8d9d2948c29row0_col11\" class=\"data row0 col11\" >1</td>\n",
       "                        <td id=\"T_18895487_c0a4_11eb_aaf7_c8d9d2948c29row0_col12\" class=\"data row0 col12\" >0</td>\n",
       "                        <td id=\"T_18895487_c0a4_11eb_aaf7_c8d9d2948c29row0_col13\" class=\"data row0 col13\" >0</td>\n",
       "                        <td id=\"T_18895487_c0a4_11eb_aaf7_c8d9d2948c29row0_col14\" class=\"data row0 col14\" >0</td>\n",
       "                        <td id=\"T_18895487_c0a4_11eb_aaf7_c8d9d2948c29row0_col15\" class=\"data row0 col15\" >2.000000</td>\n",
       "                        <td id=\"T_18895487_c0a4_11eb_aaf7_c8d9d2948c29row0_col16\" class=\"data row0 col16\" >29</td>\n",
       "                        <td id=\"T_18895487_c0a4_11eb_aaf7_c8d9d2948c29row0_col17\" class=\"data row0 col17\" >59</td>\n",
       "                        <td id=\"T_18895487_c0a4_11eb_aaf7_c8d9d2948c29row0_col18\" class=\"data row0 col18\" >3</td>\n",
       "                        <td id=\"T_18895487_c0a4_11eb_aaf7_c8d9d2948c29row0_col19\" class=\"data row0 col19\" >0</td>\n",
       "            </tr>\n",
       "            <tr>\n",
       "                        <th id=\"T_18895487_c0a4_11eb_aaf7_c8d9d2948c29level0_row1\" class=\"row_heading level0 row1\" >1</th>\n",
       "                        <td id=\"T_18895487_c0a4_11eb_aaf7_c8d9d2948c29row1_col0\" class=\"data row1 col0\" >1</td>\n",
       "                        <td id=\"T_18895487_c0a4_11eb_aaf7_c8d9d2948c29row1_col1\" class=\"data row1 col1\" >5008808</td>\n",
       "                        <td id=\"T_18895487_c0a4_11eb_aaf7_c8d9d2948c29row1_col2\" class=\"data row1 col2\" >F</td>\n",
       "                        <td id=\"T_18895487_c0a4_11eb_aaf7_c8d9d2948c29row1_col3\" class=\"data row1 col3\" >N</td>\n",
       "                        <td id=\"T_18895487_c0a4_11eb_aaf7_c8d9d2948c29row1_col4\" class=\"data row1 col4\" >Y</td>\n",
       "                        <td id=\"T_18895487_c0a4_11eb_aaf7_c8d9d2948c29row1_col5\" class=\"data row1 col5\" >0</td>\n",
       "                        <td id=\"T_18895487_c0a4_11eb_aaf7_c8d9d2948c29row1_col6\" class=\"data row1 col6\" >270000.000000</td>\n",
       "                        <td id=\"T_18895487_c0a4_11eb_aaf7_c8d9d2948c29row1_col7\" class=\"data row1 col7\" >Commercial associate</td>\n",
       "                        <td id=\"T_18895487_c0a4_11eb_aaf7_c8d9d2948c29row1_col8\" class=\"data row1 col8\" >Secondary / secondary special</td>\n",
       "                        <td id=\"T_18895487_c0a4_11eb_aaf7_c8d9d2948c29row1_col9\" class=\"data row1 col9\" >Single / not married</td>\n",
       "                        <td id=\"T_18895487_c0a4_11eb_aaf7_c8d9d2948c29row1_col10\" class=\"data row1 col10\" >House / apartment</td>\n",
       "                        <td id=\"T_18895487_c0a4_11eb_aaf7_c8d9d2948c29row1_col11\" class=\"data row1 col11\" >1</td>\n",
       "                        <td id=\"T_18895487_c0a4_11eb_aaf7_c8d9d2948c29row1_col12\" class=\"data row1 col12\" >0</td>\n",
       "                        <td id=\"T_18895487_c0a4_11eb_aaf7_c8d9d2948c29row1_col13\" class=\"data row1 col13\" >1</td>\n",
       "                        <td id=\"T_18895487_c0a4_11eb_aaf7_c8d9d2948c29row1_col14\" class=\"data row1 col14\" >1</td>\n",
       "                        <td id=\"T_18895487_c0a4_11eb_aaf7_c8d9d2948c29row1_col15\" class=\"data row1 col15\" >1.000000</td>\n",
       "                        <td id=\"T_18895487_c0a4_11eb_aaf7_c8d9d2948c29row1_col16\" class=\"data row1 col16\" >4</td>\n",
       "                        <td id=\"T_18895487_c0a4_11eb_aaf7_c8d9d2948c29row1_col17\" class=\"data row1 col17\" >52</td>\n",
       "                        <td id=\"T_18895487_c0a4_11eb_aaf7_c8d9d2948c29row1_col18\" class=\"data row1 col18\" >8</td>\n",
       "                        <td id=\"T_18895487_c0a4_11eb_aaf7_c8d9d2948c29row1_col19\" class=\"data row1 col19\" >0</td>\n",
       "            </tr>\n",
       "            <tr>\n",
       "                        <th id=\"T_18895487_c0a4_11eb_aaf7_c8d9d2948c29level0_row2\" class=\"row_heading level0 row2\" >2</th>\n",
       "                        <td id=\"T_18895487_c0a4_11eb_aaf7_c8d9d2948c29row2_col0\" class=\"data row2 col0\" >2</td>\n",
       "                        <td id=\"T_18895487_c0a4_11eb_aaf7_c8d9d2948c29row2_col1\" class=\"data row2 col1\" >5008809</td>\n",
       "                        <td id=\"T_18895487_c0a4_11eb_aaf7_c8d9d2948c29row2_col2\" class=\"data row2 col2\" >F</td>\n",
       "                        <td id=\"T_18895487_c0a4_11eb_aaf7_c8d9d2948c29row2_col3\" class=\"data row2 col3\" >N</td>\n",
       "                        <td id=\"T_18895487_c0a4_11eb_aaf7_c8d9d2948c29row2_col4\" class=\"data row2 col4\" >Y</td>\n",
       "                        <td id=\"T_18895487_c0a4_11eb_aaf7_c8d9d2948c29row2_col5\" class=\"data row2 col5\" >0</td>\n",
       "                        <td id=\"T_18895487_c0a4_11eb_aaf7_c8d9d2948c29row2_col6\" class=\"data row2 col6\" >270000.000000</td>\n",
       "                        <td id=\"T_18895487_c0a4_11eb_aaf7_c8d9d2948c29row2_col7\" class=\"data row2 col7\" >Commercial associate</td>\n",
       "                        <td id=\"T_18895487_c0a4_11eb_aaf7_c8d9d2948c29row2_col8\" class=\"data row2 col8\" >Secondary / secondary special</td>\n",
       "                        <td id=\"T_18895487_c0a4_11eb_aaf7_c8d9d2948c29row2_col9\" class=\"data row2 col9\" >Single / not married</td>\n",
       "                        <td id=\"T_18895487_c0a4_11eb_aaf7_c8d9d2948c29row2_col10\" class=\"data row2 col10\" >House / apartment</td>\n",
       "                        <td id=\"T_18895487_c0a4_11eb_aaf7_c8d9d2948c29row2_col11\" class=\"data row2 col11\" >1</td>\n",
       "                        <td id=\"T_18895487_c0a4_11eb_aaf7_c8d9d2948c29row2_col12\" class=\"data row2 col12\" >0</td>\n",
       "                        <td id=\"T_18895487_c0a4_11eb_aaf7_c8d9d2948c29row2_col13\" class=\"data row2 col13\" >1</td>\n",
       "                        <td id=\"T_18895487_c0a4_11eb_aaf7_c8d9d2948c29row2_col14\" class=\"data row2 col14\" >1</td>\n",
       "                        <td id=\"T_18895487_c0a4_11eb_aaf7_c8d9d2948c29row2_col15\" class=\"data row2 col15\" >1.000000</td>\n",
       "                        <td id=\"T_18895487_c0a4_11eb_aaf7_c8d9d2948c29row2_col16\" class=\"data row2 col16\" >26</td>\n",
       "                        <td id=\"T_18895487_c0a4_11eb_aaf7_c8d9d2948c29row2_col17\" class=\"data row2 col17\" >52</td>\n",
       "                        <td id=\"T_18895487_c0a4_11eb_aaf7_c8d9d2948c29row2_col18\" class=\"data row2 col18\" >8</td>\n",
       "                        <td id=\"T_18895487_c0a4_11eb_aaf7_c8d9d2948c29row2_col19\" class=\"data row2 col19\" >0</td>\n",
       "            </tr>\n",
       "            <tr>\n",
       "                        <th id=\"T_18895487_c0a4_11eb_aaf7_c8d9d2948c29level0_row3\" class=\"row_heading level0 row3\" >3</th>\n",
       "                        <td id=\"T_18895487_c0a4_11eb_aaf7_c8d9d2948c29row3_col0\" class=\"data row3 col0\" >3</td>\n",
       "                        <td id=\"T_18895487_c0a4_11eb_aaf7_c8d9d2948c29row3_col1\" class=\"data row3 col1\" >5008810</td>\n",
       "                        <td id=\"T_18895487_c0a4_11eb_aaf7_c8d9d2948c29row3_col2\" class=\"data row3 col2\" >F</td>\n",
       "                        <td id=\"T_18895487_c0a4_11eb_aaf7_c8d9d2948c29row3_col3\" class=\"data row3 col3\" >N</td>\n",
       "                        <td id=\"T_18895487_c0a4_11eb_aaf7_c8d9d2948c29row3_col4\" class=\"data row3 col4\" >Y</td>\n",
       "                        <td id=\"T_18895487_c0a4_11eb_aaf7_c8d9d2948c29row3_col5\" class=\"data row3 col5\" >0</td>\n",
       "                        <td id=\"T_18895487_c0a4_11eb_aaf7_c8d9d2948c29row3_col6\" class=\"data row3 col6\" >270000.000000</td>\n",
       "                        <td id=\"T_18895487_c0a4_11eb_aaf7_c8d9d2948c29row3_col7\" class=\"data row3 col7\" >Commercial associate</td>\n",
       "                        <td id=\"T_18895487_c0a4_11eb_aaf7_c8d9d2948c29row3_col8\" class=\"data row3 col8\" >Secondary / secondary special</td>\n",
       "                        <td id=\"T_18895487_c0a4_11eb_aaf7_c8d9d2948c29row3_col9\" class=\"data row3 col9\" >Single / not married</td>\n",
       "                        <td id=\"T_18895487_c0a4_11eb_aaf7_c8d9d2948c29row3_col10\" class=\"data row3 col10\" >House / apartment</td>\n",
       "                        <td id=\"T_18895487_c0a4_11eb_aaf7_c8d9d2948c29row3_col11\" class=\"data row3 col11\" >1</td>\n",
       "                        <td id=\"T_18895487_c0a4_11eb_aaf7_c8d9d2948c29row3_col12\" class=\"data row3 col12\" >0</td>\n",
       "                        <td id=\"T_18895487_c0a4_11eb_aaf7_c8d9d2948c29row3_col13\" class=\"data row3 col13\" >1</td>\n",
       "                        <td id=\"T_18895487_c0a4_11eb_aaf7_c8d9d2948c29row3_col14\" class=\"data row3 col14\" >1</td>\n",
       "                        <td id=\"T_18895487_c0a4_11eb_aaf7_c8d9d2948c29row3_col15\" class=\"data row3 col15\" >1.000000</td>\n",
       "                        <td id=\"T_18895487_c0a4_11eb_aaf7_c8d9d2948c29row3_col16\" class=\"data row3 col16\" >26</td>\n",
       "                        <td id=\"T_18895487_c0a4_11eb_aaf7_c8d9d2948c29row3_col17\" class=\"data row3 col17\" >52</td>\n",
       "                        <td id=\"T_18895487_c0a4_11eb_aaf7_c8d9d2948c29row3_col18\" class=\"data row3 col18\" >8</td>\n",
       "                        <td id=\"T_18895487_c0a4_11eb_aaf7_c8d9d2948c29row3_col19\" class=\"data row3 col19\" >0</td>\n",
       "            </tr>\n",
       "            <tr>\n",
       "                        <th id=\"T_18895487_c0a4_11eb_aaf7_c8d9d2948c29level0_row4\" class=\"row_heading level0 row4\" >4</th>\n",
       "                        <td id=\"T_18895487_c0a4_11eb_aaf7_c8d9d2948c29row4_col0\" class=\"data row4 col0\" >4</td>\n",
       "                        <td id=\"T_18895487_c0a4_11eb_aaf7_c8d9d2948c29row4_col1\" class=\"data row4 col1\" >5008811</td>\n",
       "                        <td id=\"T_18895487_c0a4_11eb_aaf7_c8d9d2948c29row4_col2\" class=\"data row4 col2\" >F</td>\n",
       "                        <td id=\"T_18895487_c0a4_11eb_aaf7_c8d9d2948c29row4_col3\" class=\"data row4 col3\" >N</td>\n",
       "                        <td id=\"T_18895487_c0a4_11eb_aaf7_c8d9d2948c29row4_col4\" class=\"data row4 col4\" >Y</td>\n",
       "                        <td id=\"T_18895487_c0a4_11eb_aaf7_c8d9d2948c29row4_col5\" class=\"data row4 col5\" >0</td>\n",
       "                        <td id=\"T_18895487_c0a4_11eb_aaf7_c8d9d2948c29row4_col6\" class=\"data row4 col6\" >270000.000000</td>\n",
       "                        <td id=\"T_18895487_c0a4_11eb_aaf7_c8d9d2948c29row4_col7\" class=\"data row4 col7\" >Commercial associate</td>\n",
       "                        <td id=\"T_18895487_c0a4_11eb_aaf7_c8d9d2948c29row4_col8\" class=\"data row4 col8\" >Secondary / secondary special</td>\n",
       "                        <td id=\"T_18895487_c0a4_11eb_aaf7_c8d9d2948c29row4_col9\" class=\"data row4 col9\" >Single / not married</td>\n",
       "                        <td id=\"T_18895487_c0a4_11eb_aaf7_c8d9d2948c29row4_col10\" class=\"data row4 col10\" >House / apartment</td>\n",
       "                        <td id=\"T_18895487_c0a4_11eb_aaf7_c8d9d2948c29row4_col11\" class=\"data row4 col11\" >1</td>\n",
       "                        <td id=\"T_18895487_c0a4_11eb_aaf7_c8d9d2948c29row4_col12\" class=\"data row4 col12\" >0</td>\n",
       "                        <td id=\"T_18895487_c0a4_11eb_aaf7_c8d9d2948c29row4_col13\" class=\"data row4 col13\" >1</td>\n",
       "                        <td id=\"T_18895487_c0a4_11eb_aaf7_c8d9d2948c29row4_col14\" class=\"data row4 col14\" >1</td>\n",
       "                        <td id=\"T_18895487_c0a4_11eb_aaf7_c8d9d2948c29row4_col15\" class=\"data row4 col15\" >1.000000</td>\n",
       "                        <td id=\"T_18895487_c0a4_11eb_aaf7_c8d9d2948c29row4_col16\" class=\"data row4 col16\" >38</td>\n",
       "                        <td id=\"T_18895487_c0a4_11eb_aaf7_c8d9d2948c29row4_col17\" class=\"data row4 col17\" >52</td>\n",
       "                        <td id=\"T_18895487_c0a4_11eb_aaf7_c8d9d2948c29row4_col18\" class=\"data row4 col18\" >8</td>\n",
       "                        <td id=\"T_18895487_c0a4_11eb_aaf7_c8d9d2948c29row4_col19\" class=\"data row4 col19\" >0</td>\n",
       "            </tr>\n",
       "    </tbody></table>"
      ],
      "text/plain": [
       "<pandas.io.formats.style.Styler at 0x1c58a482b20>"
      ]
     },
     "execution_count": 2,
     "metadata": {},
     "output_type": "execute_result"
    }
   ],
   "source": [
    "# import data\n",
    "df = pd.read_csv('credit_dataset.csv')\n",
    "df.head().style.set_properties(**{'text-align': 'center'}).set_table_styles([dict(selector='th', props=[('text-align', 'center')])])"
   ]
  },
  {
   "cell_type": "code",
   "execution_count": 3,
   "metadata": {},
   "outputs": [],
   "source": [
    "# select features\n",
    "new_df = df[[\"GENDER\", \"REALITY\", \"INCOME_TYPE\", \"FAMILY_TYPE\", \"YEARS_EMPLOYED\", \"TARGET\"]]"
   ]
  },
  {
   "cell_type": "code",
   "execution_count": 4,
   "metadata": {},
   "outputs": [],
   "source": [
    "# divide to features and label\n",
    "features = new_df.drop(\"TARGET\", axis=1)\n",
    "label = new_df.TARGET"
   ]
  },
  {
   "cell_type": "code",
   "execution_count": 5,
   "metadata": {},
   "outputs": [],
   "source": [
    "# create dummy variables\n",
    "dummy_data = pd.get_dummies(features, columns={\"GENDER\", \"REALITY\", \"INCOME_TYPE\", \"FAMILY_TYPE\"}, drop_first=True)\n",
    "features = dummy_data.copy()"
   ]
  },
  {
   "cell_type": "code",
   "execution_count": 6,
   "metadata": {},
   "outputs": [],
   "source": [
    "# scaling\n",
    "scaler = StandardScaler()\n",
    "scaled = pd.DataFrame(scaler.fit_transform(features), columns = features.columns)\n",
    "scaled.columns = features.columns\n",
    "features = scaled"
   ]
  },
  {
   "cell_type": "code",
   "execution_count": 7,
   "metadata": {},
   "outputs": [
    {
     "data": {
      "text/html": [
       "<style  type=\"text/css\" >\n",
       "    #T_189cb5f8_c0a4_11eb_8c93_c8d9d2948c29 th {\n",
       "          text-align: center;\n",
       "    }#T_189cb5f8_c0a4_11eb_8c93_c8d9d2948c29row0_col0,#T_189cb5f8_c0a4_11eb_8c93_c8d9d2948c29row0_col1,#T_189cb5f8_c0a4_11eb_8c93_c8d9d2948c29row0_col2,#T_189cb5f8_c0a4_11eb_8c93_c8d9d2948c29row0_col3,#T_189cb5f8_c0a4_11eb_8c93_c8d9d2948c29row0_col4,#T_189cb5f8_c0a4_11eb_8c93_c8d9d2948c29row0_col5,#T_189cb5f8_c0a4_11eb_8c93_c8d9d2948c29row0_col6,#T_189cb5f8_c0a4_11eb_8c93_c8d9d2948c29row0_col7,#T_189cb5f8_c0a4_11eb_8c93_c8d9d2948c29row0_col8,#T_189cb5f8_c0a4_11eb_8c93_c8d9d2948c29row0_col9,#T_189cb5f8_c0a4_11eb_8c93_c8d9d2948c29row0_col10,#T_189cb5f8_c0a4_11eb_8c93_c8d9d2948c29row1_col0,#T_189cb5f8_c0a4_11eb_8c93_c8d9d2948c29row1_col1,#T_189cb5f8_c0a4_11eb_8c93_c8d9d2948c29row1_col2,#T_189cb5f8_c0a4_11eb_8c93_c8d9d2948c29row1_col3,#T_189cb5f8_c0a4_11eb_8c93_c8d9d2948c29row1_col4,#T_189cb5f8_c0a4_11eb_8c93_c8d9d2948c29row1_col5,#T_189cb5f8_c0a4_11eb_8c93_c8d9d2948c29row1_col6,#T_189cb5f8_c0a4_11eb_8c93_c8d9d2948c29row1_col7,#T_189cb5f8_c0a4_11eb_8c93_c8d9d2948c29row1_col8,#T_189cb5f8_c0a4_11eb_8c93_c8d9d2948c29row1_col9,#T_189cb5f8_c0a4_11eb_8c93_c8d9d2948c29row1_col10,#T_189cb5f8_c0a4_11eb_8c93_c8d9d2948c29row2_col0,#T_189cb5f8_c0a4_11eb_8c93_c8d9d2948c29row2_col1,#T_189cb5f8_c0a4_11eb_8c93_c8d9d2948c29row2_col2,#T_189cb5f8_c0a4_11eb_8c93_c8d9d2948c29row2_col3,#T_189cb5f8_c0a4_11eb_8c93_c8d9d2948c29row2_col4,#T_189cb5f8_c0a4_11eb_8c93_c8d9d2948c29row2_col5,#T_189cb5f8_c0a4_11eb_8c93_c8d9d2948c29row2_col6,#T_189cb5f8_c0a4_11eb_8c93_c8d9d2948c29row2_col7,#T_189cb5f8_c0a4_11eb_8c93_c8d9d2948c29row2_col8,#T_189cb5f8_c0a4_11eb_8c93_c8d9d2948c29row2_col9,#T_189cb5f8_c0a4_11eb_8c93_c8d9d2948c29row2_col10,#T_189cb5f8_c0a4_11eb_8c93_c8d9d2948c29row3_col0,#T_189cb5f8_c0a4_11eb_8c93_c8d9d2948c29row3_col1,#T_189cb5f8_c0a4_11eb_8c93_c8d9d2948c29row3_col2,#T_189cb5f8_c0a4_11eb_8c93_c8d9d2948c29row3_col3,#T_189cb5f8_c0a4_11eb_8c93_c8d9d2948c29row3_col4,#T_189cb5f8_c0a4_11eb_8c93_c8d9d2948c29row3_col5,#T_189cb5f8_c0a4_11eb_8c93_c8d9d2948c29row3_col6,#T_189cb5f8_c0a4_11eb_8c93_c8d9d2948c29row3_col7,#T_189cb5f8_c0a4_11eb_8c93_c8d9d2948c29row3_col8,#T_189cb5f8_c0a4_11eb_8c93_c8d9d2948c29row3_col9,#T_189cb5f8_c0a4_11eb_8c93_c8d9d2948c29row3_col10,#T_189cb5f8_c0a4_11eb_8c93_c8d9d2948c29row4_col0,#T_189cb5f8_c0a4_11eb_8c93_c8d9d2948c29row4_col1,#T_189cb5f8_c0a4_11eb_8c93_c8d9d2948c29row4_col2,#T_189cb5f8_c0a4_11eb_8c93_c8d9d2948c29row4_col3,#T_189cb5f8_c0a4_11eb_8c93_c8d9d2948c29row4_col4,#T_189cb5f8_c0a4_11eb_8c93_c8d9d2948c29row4_col5,#T_189cb5f8_c0a4_11eb_8c93_c8d9d2948c29row4_col6,#T_189cb5f8_c0a4_11eb_8c93_c8d9d2948c29row4_col7,#T_189cb5f8_c0a4_11eb_8c93_c8d9d2948c29row4_col8,#T_189cb5f8_c0a4_11eb_8c93_c8d9d2948c29row4_col9,#T_189cb5f8_c0a4_11eb_8c93_c8d9d2948c29row4_col10{\n",
       "            text-align:  center;\n",
       "        }</style><table id=\"T_189cb5f8_c0a4_11eb_8c93_c8d9d2948c29\" ><thead>    <tr>        <th class=\"blank level0\" ></th>        <th class=\"col_heading level0 col0\" >YEARS_EMPLOYED</th>        <th class=\"col_heading level0 col1\" >REALITY_Y</th>        <th class=\"col_heading level0 col2\" >FAMILY_TYPE_Married</th>        <th class=\"col_heading level0 col3\" >FAMILY_TYPE_Separated</th>        <th class=\"col_heading level0 col4\" >FAMILY_TYPE_Single / not married</th>        <th class=\"col_heading level0 col5\" >FAMILY_TYPE_Widow</th>        <th class=\"col_heading level0 col6\" >INCOME_TYPE_Pensioner</th>        <th class=\"col_heading level0 col7\" >INCOME_TYPE_State servant</th>        <th class=\"col_heading level0 col8\" >INCOME_TYPE_Student</th>        <th class=\"col_heading level0 col9\" >INCOME_TYPE_Working</th>        <th class=\"col_heading level0 col10\" >GENDER_M</th>    </tr></thead><tbody>\n",
       "                <tr>\n",
       "                        <th id=\"T_189cb5f8_c0a4_11eb_8c93_c8d9d2948c29level0_row0\" class=\"row_heading level0 row0\" >0</th>\n",
       "                        <td id=\"T_189cb5f8_c0a4_11eb_8c93_c8d9d2948c29row0_col0\" class=\"data row0 col0\" >-0.655447</td>\n",
       "                        <td id=\"T_189cb5f8_c0a4_11eb_8c93_c8d9d2948c29row0_col1\" class=\"data row0 col1\" >0.725866</td>\n",
       "                        <td id=\"T_189cb5f8_c0a4_11eb_8c93_c8d9d2948c29row0_col2\" class=\"data row0 col2\" >0.659917</td>\n",
       "                        <td id=\"T_189cb5f8_c0a4_11eb_8c93_c8d9d2948c29row0_col3\" class=\"data row0 col3\" >-0.248968</td>\n",
       "                        <td id=\"T_189cb5f8_c0a4_11eb_8c93_c8d9d2948c29row0_col4\" class=\"data row0 col4\" >-0.398543</td>\n",
       "                        <td id=\"T_189cb5f8_c0a4_11eb_8c93_c8d9d2948c29row0_col5\" class=\"data row0 col5\" >-0.153693</td>\n",
       "                        <td id=\"T_189cb5f8_c0a4_11eb_8c93_c8d9d2948c29row0_col6\" class=\"data row0 col6\" >-0.022749</td>\n",
       "                        <td id=\"T_189cb5f8_c0a4_11eb_8c93_c8d9d2948c29row0_col7\" class=\"data row0 col7\" >-0.327675</td>\n",
       "                        <td id=\"T_189cb5f8_c0a4_11eb_8c93_c8d9d2948c29row0_col8\" class=\"data row0 col8\" >-0.019951</td>\n",
       "                        <td id=\"T_189cb5f8_c0a4_11eb_8c93_c8d9d2948c29row0_col9\" class=\"data row0 col9\" >0.780311</td>\n",
       "                        <td id=\"T_189cb5f8_c0a4_11eb_8c93_c8d9d2948c29row0_col10\" class=\"data row0 col10\" >1.282408</td>\n",
       "            </tr>\n",
       "            <tr>\n",
       "                        <th id=\"T_189cb5f8_c0a4_11eb_8c93_c8d9d2948c29level0_row1\" class=\"row_heading level0 row1\" >1</th>\n",
       "                        <td id=\"T_189cb5f8_c0a4_11eb_8c93_c8d9d2948c29row1_col0\" class=\"data row1 col0\" >0.124085</td>\n",
       "                        <td id=\"T_189cb5f8_c0a4_11eb_8c93_c8d9d2948c29row1_col1\" class=\"data row1 col1\" >0.725866</td>\n",
       "                        <td id=\"T_189cb5f8_c0a4_11eb_8c93_c8d9d2948c29row1_col2\" class=\"data row1 col2\" >-1.515342</td>\n",
       "                        <td id=\"T_189cb5f8_c0a4_11eb_8c93_c8d9d2948c29row1_col3\" class=\"data row1 col3\" >-0.248968</td>\n",
       "                        <td id=\"T_189cb5f8_c0a4_11eb_8c93_c8d9d2948c29row1_col4\" class=\"data row1 col4\" >2.509141</td>\n",
       "                        <td id=\"T_189cb5f8_c0a4_11eb_8c93_c8d9d2948c29row1_col5\" class=\"data row1 col5\" >-0.153693</td>\n",
       "                        <td id=\"T_189cb5f8_c0a4_11eb_8c93_c8d9d2948c29row1_col6\" class=\"data row1 col6\" >-0.022749</td>\n",
       "                        <td id=\"T_189cb5f8_c0a4_11eb_8c93_c8d9d2948c29row1_col7\" class=\"data row1 col7\" >-0.327675</td>\n",
       "                        <td id=\"T_189cb5f8_c0a4_11eb_8c93_c8d9d2948c29row1_col8\" class=\"data row1 col8\" >-0.019951</td>\n",
       "                        <td id=\"T_189cb5f8_c0a4_11eb_8c93_c8d9d2948c29row1_col9\" class=\"data row1 col9\" >-1.281541</td>\n",
       "                        <td id=\"T_189cb5f8_c0a4_11eb_8c93_c8d9d2948c29row1_col10\" class=\"data row1 col10\" >-0.779783</td>\n",
       "            </tr>\n",
       "            <tr>\n",
       "                        <th id=\"T_189cb5f8_c0a4_11eb_8c93_c8d9d2948c29level0_row2\" class=\"row_heading level0 row2\" >2</th>\n",
       "                        <td id=\"T_189cb5f8_c0a4_11eb_8c93_c8d9d2948c29row2_col0\" class=\"data row2 col0\" >0.124085</td>\n",
       "                        <td id=\"T_189cb5f8_c0a4_11eb_8c93_c8d9d2948c29row2_col1\" class=\"data row2 col1\" >0.725866</td>\n",
       "                        <td id=\"T_189cb5f8_c0a4_11eb_8c93_c8d9d2948c29row2_col2\" class=\"data row2 col2\" >-1.515342</td>\n",
       "                        <td id=\"T_189cb5f8_c0a4_11eb_8c93_c8d9d2948c29row2_col3\" class=\"data row2 col3\" >-0.248968</td>\n",
       "                        <td id=\"T_189cb5f8_c0a4_11eb_8c93_c8d9d2948c29row2_col4\" class=\"data row2 col4\" >2.509141</td>\n",
       "                        <td id=\"T_189cb5f8_c0a4_11eb_8c93_c8d9d2948c29row2_col5\" class=\"data row2 col5\" >-0.153693</td>\n",
       "                        <td id=\"T_189cb5f8_c0a4_11eb_8c93_c8d9d2948c29row2_col6\" class=\"data row2 col6\" >-0.022749</td>\n",
       "                        <td id=\"T_189cb5f8_c0a4_11eb_8c93_c8d9d2948c29row2_col7\" class=\"data row2 col7\" >-0.327675</td>\n",
       "                        <td id=\"T_189cb5f8_c0a4_11eb_8c93_c8d9d2948c29row2_col8\" class=\"data row2 col8\" >-0.019951</td>\n",
       "                        <td id=\"T_189cb5f8_c0a4_11eb_8c93_c8d9d2948c29row2_col9\" class=\"data row2 col9\" >-1.281541</td>\n",
       "                        <td id=\"T_189cb5f8_c0a4_11eb_8c93_c8d9d2948c29row2_col10\" class=\"data row2 col10\" >-0.779783</td>\n",
       "            </tr>\n",
       "            <tr>\n",
       "                        <th id=\"T_189cb5f8_c0a4_11eb_8c93_c8d9d2948c29level0_row3\" class=\"row_heading level0 row3\" >3</th>\n",
       "                        <td id=\"T_189cb5f8_c0a4_11eb_8c93_c8d9d2948c29row3_col0\" class=\"data row3 col0\" >0.124085</td>\n",
       "                        <td id=\"T_189cb5f8_c0a4_11eb_8c93_c8d9d2948c29row3_col1\" class=\"data row3 col1\" >0.725866</td>\n",
       "                        <td id=\"T_189cb5f8_c0a4_11eb_8c93_c8d9d2948c29row3_col2\" class=\"data row3 col2\" >-1.515342</td>\n",
       "                        <td id=\"T_189cb5f8_c0a4_11eb_8c93_c8d9d2948c29row3_col3\" class=\"data row3 col3\" >-0.248968</td>\n",
       "                        <td id=\"T_189cb5f8_c0a4_11eb_8c93_c8d9d2948c29row3_col4\" class=\"data row3 col4\" >2.509141</td>\n",
       "                        <td id=\"T_189cb5f8_c0a4_11eb_8c93_c8d9d2948c29row3_col5\" class=\"data row3 col5\" >-0.153693</td>\n",
       "                        <td id=\"T_189cb5f8_c0a4_11eb_8c93_c8d9d2948c29row3_col6\" class=\"data row3 col6\" >-0.022749</td>\n",
       "                        <td id=\"T_189cb5f8_c0a4_11eb_8c93_c8d9d2948c29row3_col7\" class=\"data row3 col7\" >-0.327675</td>\n",
       "                        <td id=\"T_189cb5f8_c0a4_11eb_8c93_c8d9d2948c29row3_col8\" class=\"data row3 col8\" >-0.019951</td>\n",
       "                        <td id=\"T_189cb5f8_c0a4_11eb_8c93_c8d9d2948c29row3_col9\" class=\"data row3 col9\" >-1.281541</td>\n",
       "                        <td id=\"T_189cb5f8_c0a4_11eb_8c93_c8d9d2948c29row3_col10\" class=\"data row3 col10\" >-0.779783</td>\n",
       "            </tr>\n",
       "            <tr>\n",
       "                        <th id=\"T_189cb5f8_c0a4_11eb_8c93_c8d9d2948c29level0_row4\" class=\"row_heading level0 row4\" >4</th>\n",
       "                        <td id=\"T_189cb5f8_c0a4_11eb_8c93_c8d9d2948c29row4_col0\" class=\"data row4 col0\" >0.124085</td>\n",
       "                        <td id=\"T_189cb5f8_c0a4_11eb_8c93_c8d9d2948c29row4_col1\" class=\"data row4 col1\" >0.725866</td>\n",
       "                        <td id=\"T_189cb5f8_c0a4_11eb_8c93_c8d9d2948c29row4_col2\" class=\"data row4 col2\" >-1.515342</td>\n",
       "                        <td id=\"T_189cb5f8_c0a4_11eb_8c93_c8d9d2948c29row4_col3\" class=\"data row4 col3\" >-0.248968</td>\n",
       "                        <td id=\"T_189cb5f8_c0a4_11eb_8c93_c8d9d2948c29row4_col4\" class=\"data row4 col4\" >2.509141</td>\n",
       "                        <td id=\"T_189cb5f8_c0a4_11eb_8c93_c8d9d2948c29row4_col5\" class=\"data row4 col5\" >-0.153693</td>\n",
       "                        <td id=\"T_189cb5f8_c0a4_11eb_8c93_c8d9d2948c29row4_col6\" class=\"data row4 col6\" >-0.022749</td>\n",
       "                        <td id=\"T_189cb5f8_c0a4_11eb_8c93_c8d9d2948c29row4_col7\" class=\"data row4 col7\" >-0.327675</td>\n",
       "                        <td id=\"T_189cb5f8_c0a4_11eb_8c93_c8d9d2948c29row4_col8\" class=\"data row4 col8\" >-0.019951</td>\n",
       "                        <td id=\"T_189cb5f8_c0a4_11eb_8c93_c8d9d2948c29row4_col9\" class=\"data row4 col9\" >-1.281541</td>\n",
       "                        <td id=\"T_189cb5f8_c0a4_11eb_8c93_c8d9d2948c29row4_col10\" class=\"data row4 col10\" >-0.779783</td>\n",
       "            </tr>\n",
       "    </tbody></table>"
      ],
      "text/plain": [
       "<pandas.io.formats.style.Styler at 0x1c58fe08a30>"
      ]
     },
     "execution_count": 7,
     "metadata": {},
     "output_type": "execute_result"
    }
   ],
   "source": [
    "# features df\n",
    "features.head().style.set_properties(**{'text-align': 'center'}).set_table_styles([dict(selector='th', props=[('text-align', 'center')])])"
   ]
  },
  {
   "cell_type": "markdown",
   "metadata": {},
   "source": [
    "***"
   ]
  },
  {
   "cell_type": "markdown",
   "metadata": {},
   "source": [
    "# 3 Sampling Methods <a class=\"anchor\" id=\"section3\"></a>"
   ]
  },
  {
   "cell_type": "markdown",
   "metadata": {},
   "source": [
    "In this section, I apply different classification algorithms to the data, using 3 different sampling methods: SMOTE, Random Oversampling, and Random Undersampling. For each method I apply Logistic Regression, SVM (with a linear kernel), Random Forest, and Gradient Tree Boosting.\n",
    "\n",
    "With the dataset being extremely imbalanced, I've decided to use three metrics to compare the different models. \n",
    "\n",
    "1. Sensitivity: refers to the ability to correctly predict positive obseravtions.\n",
    "\n",
    "$$\\text{Sensitivity} = \\frac{\\text{True Positive}}{\\text{True Positive} + \\text{False Negative}}$$\n",
    "\n",
    "2. Specificity: refers to the ability to correctly predict negative obseravtions.\n",
    "\n",
    "$$\\text{Specificity} = \\frac{\\text{True Negative}}{\\text{True Negative} + \\text{False Positive}}$$\n",
    "\n",
    "3. Accuracy: refers to the ability to correctly predict both positive and negative obseravtions.\n",
    "\n",
    "$$\\text{Accuracy} = \\frac{\\text{True Positive} + \\text{True Negative}}{\\text{True Positive} + \\text{True Negative} + \\text{False Positive} + \\text{False Negative}}$$"
   ]
  },
  {
   "cell_type": "markdown",
   "metadata": {},
   "source": [
    "I defined three methods that will be used for all the models:"
   ]
  },
  {
   "cell_type": "markdown",
   "metadata": {},
   "source": [
    "The `get_metrics` method is used to calculate the sensitivity, specificity and accuracy of a given estimator, provided the train and test data. In addition, it creates a confusion matrix."
   ]
  },
  {
   "cell_type": "code",
   "execution_count": 8,
   "metadata": {},
   "outputs": [],
   "source": [
    "def get_metrics(X_train, X_test, y_train, y_test, estimator):\n",
    "    \n",
    "    # fit estimator\n",
    "    estimator.fit(X_train, y_train)\n",
    "    \n",
    "    # get best estimator\n",
    "    best = estimator.best_estimator_\n",
    "\n",
    "    # predict\n",
    "    y_pred_test = best.predict(X_test)\n",
    "    \n",
    "    # Get true/false for whether a fraud actually occurred\n",
    "    actual_pos = y_test == 1\n",
    "    actual_neg = y_test == 0\n",
    "    \n",
    "    # Get confusion matrix\n",
    "    mat = metrics.confusion_matrix(y_test, y_pred_test)\n",
    "    true_neg, false_pos, false_neg, true_pos = mat.ravel()\n",
    "    \n",
    "    # Calculate accuracy\n",
    "    accuracy = np.mean(y_pred_test == y_test)\n",
    "    \n",
    "    # Calculate sensitivity and specificity\n",
    "    sensitivity = true_pos / np.sum(actual_pos)\n",
    "    specificity = true_neg / np.sum(actual_neg)\n",
    "    \n",
    "    # define scores list\n",
    "    scores = [sensitivity, specificity, accuracy]\n",
    "    \n",
    "    # create confusion matrix\n",
    "    sns.heatmap(mat, annot=True, cbar=False, cmap=\"Blues\",\n",
    "                linecolor=\"Black\", linewidth=0.2, fmt=\"1\")\n",
    "    plt.xlabel(\"Predicted\", fontsize=12)\n",
    "    plt.ylabel(\"True\", fontsize=12)\n",
    "    plt.title(\"Confusion Matrix\", fontsize=14)\n",
    "    \n",
    "    return scores, plt"
   ]
  },
  {
   "cell_type": "markdown",
   "metadata": {},
   "source": [
    "The `estimators` method is used to define the estimators and parameters for each sampling method."
   ]
  },
  {
   "cell_type": "code",
   "execution_count": 9,
   "metadata": {},
   "outputs": [],
   "source": [
    "def estimators():\n",
    "    \n",
    "    # logistic regression\n",
    "    parameters_grid = {'C': [0.001, 0.005, 0.01, 0.05, 0.1, 0.5, 1, 1.25, 1.5]}\n",
    "    model = LogisticRegression(fit_intercept=True)\n",
    "    log_reg = GridSearchCV(estimator=model, param_grid=parameters_grid, cv=10, n_jobs=-1)\n",
    "    \n",
    "    # svm\n",
    "    parameters_grid = {'C': [0.1, 0.5, 1, 5, 10]}\n",
    "    model = SVC(kernel='linear')\n",
    "    svm = GridSearchCV(estimator=model, param_grid=parameters_grid, cv=10, n_jobs=-1)\n",
    "    \n",
    "    # random forest\n",
    "    parameters_grid = {\n",
    "        'max_depth': [50, 100],\n",
    "        'min_samples_leaf': [1, 2],\n",
    "        'min_samples_split': [2, 3],\n",
    "        'n_estimators': [50, 100],\n",
    "        'max_features': [5, 10]\n",
    "    }\n",
    "    model = RandomForestClassifier()\n",
    "    random_forest = GridSearchCV(estimator=model, param_grid=parameters_grid, cv=10, n_jobs=-1)\n",
    "    \n",
    "    # gradient boosting\n",
    "    parameters_grid = {\n",
    "        'max_depth': [3, 5],\n",
    "        'min_samples_leaf': [1, 2],\n",
    "        'min_samples_split': [3, 5],\n",
    "        'n_estimators': [50, 100],\n",
    "        'max_features': [5, 10]\n",
    "    }\n",
    "    model = GradientBoostingClassifier()\n",
    "    gradient_boosting = GridSearchCV(estimator=model, param_grid=parameters_grid, cv=10, n_jobs=-1)\n",
    "    \n",
    "    return log_reg, svm, random_forest, gradient_boosting"
   ]
  },
  {
   "cell_type": "markdown",
   "metadata": {},
   "source": [
    "The `display_df` method is used to create and display the dataframe for the sensitivity scores."
   ]
  },
  {
   "cell_type": "code",
   "execution_count": 10,
   "metadata": {},
   "outputs": [],
   "source": [
    "def display_df(scores):\n",
    "    df = pd.DataFrame(scores).T\n",
    "    df = df.rename(index={0: 'Score'}, columns={0: 'Sensitivity', 1: 'Specificity', 2:'Accuracy'})\n",
    "    return(df)"
   ]
  },
  {
   "cell_type": "markdown",
   "metadata": {},
   "source": [
    "***"
   ]
  },
  {
   "cell_type": "markdown",
   "metadata": {},
   "source": [
    "## 3.1 Original Data (without sampling) <a class=\"anchor\" id=\"section3.1\"></a>"
   ]
  },
  {
   "cell_type": "code",
   "execution_count": 11,
   "metadata": {},
   "outputs": [],
   "source": [
    "X_train, X_test, y_train, y_test = train_test_split(features, label, test_size=0.25, random_state=10)"
   ]
  },
  {
   "cell_type": "code",
   "execution_count": 12,
   "metadata": {
    "scrolled": true
   },
   "outputs": [],
   "source": [
    "log_reg, svm, random_forest, gradient_boosting = estimators()"
   ]
  },
  {
   "cell_type": "markdown",
   "metadata": {},
   "source": [
    "### 3.1.1 Logistic Regression <a class=\"anchor\" id=\"section3.1.1\"></a>"
   ]
  },
  {
   "cell_type": "code",
   "execution_count": 13,
   "metadata": {},
   "outputs": [
    {
     "data": {
      "image/png": "[encoded data removed]",
      "text/plain": [
       "<Figure size 432x288 with 1 Axes>"
      ]
     },
     "metadata": {
      "needs_background": "light"
     },
     "output_type": "display_data"
    }
   ],
   "source": [
    "scores, plt = get_metrics(X_train, X_test, y_train, y_test, log_reg)"
   ]
  },
  {
   "cell_type": "code",
   "execution_count": 14,
   "metadata": {},
   "outputs": [
    {
     "data": {
      "text/html": [
       "<div>\n",
       "<style scoped>\n",
       "    .dataframe tbody tr th:only-of-type {\n",
       "        vertical-align: middle;\n",
       "    }\n",
       "\n",
       "    .dataframe tbody tr th {\n",
       "        vertical-align: top;\n",
       "    }\n",
       "\n",
       "    .dataframe thead th {\n",
       "        text-align: right;\n",
       "    }\n",
       "</style>\n",
       "<table border=\"1\" class=\"dataframe\">\n",
       "  <thead>\n",
       "    <tr style=\"text-align: right;\">\n",
       "      <th></th>\n",
       "      <th>Sensitivity</th>\n",
       "      <th>Specificity</th>\n",
       "      <th>Accuracy</th>\n",
       "    </tr>\n",
       "  </thead>\n",
       "  <tbody>\n",
       "    <tr>\n",
       "      <th>Score</th>\n",
       "      <td>0.047619</td>\n",
       "      <td>1.0</td>\n",
       "      <td>0.984087</td>\n",
       "    </tr>\n",
       "  </tbody>\n",
       "</table>\n",
       "</div>"
      ],
      "text/plain": [
       "       Sensitivity  Specificity  Accuracy\n",
       "Score     0.047619          1.0  0.984087"
      ]
     },
     "execution_count": 14,
     "metadata": {},
     "output_type": "execute_result"
    }
   ],
   "source": [
    "og_res = display_df(scores)\n",
    "og_res"
   ]
  },
  {
   "cell_type": "markdown",
   "metadata": {},
   "source": [
    "### 3.1.2 SVM <a class=\"anchor\" id=\"section3.1.2\"></a>"
   ]
  },
  {
   "cell_type": "code",
   "execution_count": 15,
   "metadata": {},
   "outputs": [
    {
     "data": {
      "image/png": "[encoded data removed]",
      "text/plain": [
       "<Figure size 432x288 with 1 Axes>"
      ]
     },
     "metadata": {
      "needs_background": "light"
     },
     "output_type": "display_data"
    }
   ],
   "source": [
    "scores, plt = get_metrics(X_train, X_test, y_train, y_test, svm)"
   ]
  },
  {
   "cell_type": "code",
   "execution_count": 16,
   "metadata": {},
   "outputs": [
    {
     "data": {
      "text/html": [
       "<div>\n",
       "<style scoped>\n",
       "    .dataframe tbody tr th:only-of-type {\n",
       "        vertical-align: middle;\n",
       "    }\n",
       "\n",
       "    .dataframe tbody tr th {\n",
       "        vertical-align: top;\n",
       "    }\n",
       "\n",
       "    .dataframe thead th {\n",
       "        text-align: right;\n",
       "    }\n",
       "</style>\n",
       "<table border=\"1\" class=\"dataframe\">\n",
       "  <thead>\n",
       "    <tr style=\"text-align: right;\">\n",
       "      <th></th>\n",
       "      <th>Sensitivity</th>\n",
       "      <th>Specificity</th>\n",
       "      <th>Accuracy</th>\n",
       "    </tr>\n",
       "  </thead>\n",
       "  <tbody>\n",
       "    <tr>\n",
       "      <th>Score</th>\n",
       "      <td>0.047619</td>\n",
       "      <td>1.0</td>\n",
       "      <td>0.984087</td>\n",
       "    </tr>\n",
       "  </tbody>\n",
       "</table>\n",
       "</div>"
      ],
      "text/plain": [
       "       Sensitivity  Specificity  Accuracy\n",
       "Score     0.047619          1.0  0.984087"
      ]
     },
     "execution_count": 16,
     "metadata": {},
     "output_type": "execute_result"
    }
   ],
   "source": [
    "temp = display_df(scores)\n",
    "temp"
   ]
  },
  {
   "cell_type": "code",
   "execution_count": 17,
   "metadata": {},
   "outputs": [],
   "source": [
    "og_res = og_res.append(temp)"
   ]
  },
  {
   "cell_type": "markdown",
   "metadata": {},
   "source": [
    "### 3.1.3 Random Forest <a class=\"anchor\" id=\"section3.1.3\"></a>"
   ]
  },
  {
   "cell_type": "code",
   "execution_count": 18,
   "metadata": {},
   "outputs": [
    {
     "data": {
      "image/png": "[encoded data removed]",
      "text/plain": [
       "<Figure size 432x288 with 1 Axes>"
      ]
     },
     "metadata": {
      "needs_background": "light"
     },
     "output_type": "display_data"
    }
   ],
   "source": [
    "scores, plt = get_metrics(X_train, X_test, y_train, y_test, random_forest)"
   ]
  },
  {
   "cell_type": "code",
   "execution_count": 19,
   "metadata": {},
   "outputs": [
    {
     "data": {
      "text/html": [
       "<div>\n",
       "<style scoped>\n",
       "    .dataframe tbody tr th:only-of-type {\n",
       "        vertical-align: middle;\n",
       "    }\n",
       "\n",
       "    .dataframe tbody tr th {\n",
       "        vertical-align: top;\n",
       "    }\n",
       "\n",
       "    .dataframe thead th {\n",
       "        text-align: right;\n",
       "    }\n",
       "</style>\n",
       "<table border=\"1\" class=\"dataframe\">\n",
       "  <thead>\n",
       "    <tr style=\"text-align: right;\">\n",
       "      <th></th>\n",
       "      <th>Sensitivity</th>\n",
       "      <th>Specificity</th>\n",
       "      <th>Accuracy</th>\n",
       "    </tr>\n",
       "  </thead>\n",
       "  <tbody>\n",
       "    <tr>\n",
       "      <th>Score</th>\n",
       "      <td>0.047619</td>\n",
       "      <td>1.0</td>\n",
       "      <td>0.984087</td>\n",
       "    </tr>\n",
       "  </tbody>\n",
       "</table>\n",
       "</div>"
      ],
      "text/plain": [
       "       Sensitivity  Specificity  Accuracy\n",
       "Score     0.047619          1.0  0.984087"
      ]
     },
     "execution_count": 19,
     "metadata": {},
     "output_type": "execute_result"
    }
   ],
   "source": [
    "temp = display_df(scores)\n",
    "temp"
   ]
  },
  {
   "cell_type": "code",
   "execution_count": 20,
   "metadata": {},
   "outputs": [],
   "source": [
    "og_res = og_res.append(temp)"
   ]
  },
  {
   "cell_type": "markdown",
   "metadata": {},
   "source": [
    "### 3.1.4 Gradient Tree Boosting <a class=\"anchor\" id=\"section3.1.4\"></a>"
   ]
  },
  {
   "cell_type": "code",
   "execution_count": 21,
   "metadata": {},
   "outputs": [
    {
     "data": {
      "image/png": "[encoded data removed]",
      "text/plain": [
       "<Figure size 432x288 with 1 Axes>"
      ]
     },
     "metadata": {
      "needs_background": "light"
     },
     "output_type": "display_data"
    }
   ],
   "source": [
    "scores, plt = get_metrics(X_train, X_test, y_train, y_test, gradient_boosting)"
   ]
  },
  {
   "cell_type": "code",
   "execution_count": 22,
   "metadata": {},
   "outputs": [
    {
     "data": {
      "text/html": [
       "<div>\n",
       "<style scoped>\n",
       "    .dataframe tbody tr th:only-of-type {\n",
       "        vertical-align: middle;\n",
       "    }\n",
       "\n",
       "    .dataframe tbody tr th {\n",
       "        vertical-align: top;\n",
       "    }\n",
       "\n",
       "    .dataframe thead th {\n",
       "        text-align: right;\n",
       "    }\n",
       "</style>\n",
       "<table border=\"1\" class=\"dataframe\">\n",
       "  <thead>\n",
       "    <tr style=\"text-align: right;\">\n",
       "      <th></th>\n",
       "      <th>Sensitivity</th>\n",
       "      <th>Specificity</th>\n",
       "      <th>Accuracy</th>\n",
       "    </tr>\n",
       "  </thead>\n",
       "  <tbody>\n",
       "    <tr>\n",
       "      <th>Score</th>\n",
       "      <td>0.047619</td>\n",
       "      <td>1.0</td>\n",
       "      <td>0.984087</td>\n",
       "    </tr>\n",
       "  </tbody>\n",
       "</table>\n",
       "</div>"
      ],
      "text/plain": [
       "       Sensitivity  Specificity  Accuracy\n",
       "Score     0.047619          1.0  0.984087"
      ]
     },
     "execution_count": 22,
     "metadata": {},
     "output_type": "execute_result"
    }
   ],
   "source": [
    "temp = display_df(scores)\n",
    "temp"
   ]
  },
  {
   "cell_type": "code",
   "execution_count": 23,
   "metadata": {},
   "outputs": [],
   "source": [
    "og_res = og_res.append(temp)"
   ]
  },
  {
   "cell_type": "markdown",
   "metadata": {},
   "source": [
    "***"
   ]
  },
  {
   "cell_type": "markdown",
   "metadata": {},
   "source": [
    "## 3.2 SMOTE <a class=\"anchor\" id=\"section3.2\"></a>"
   ]
  },
  {
   "cell_type": "markdown",
   "metadata": {},
   "source": [
    "SMOTE first selects a minority class instance at random and finds its k nearest minority class neighbors. The synthetic instance is then created by choosing one of the k nearest neighbors b at random and connecting a and b to form a line segment in the feature space. The synthetic instances are generated as a convex combination of the two chosen instances a and b."
   ]
  },
  {
   "cell_type": "code",
   "execution_count": 24,
   "metadata": {},
   "outputs": [],
   "source": [
    "X_smote, y_smote = SMOTE().fit_resample(features, label)"
   ]
  },
  {
   "cell_type": "code",
   "execution_count": 25,
   "metadata": {},
   "outputs": [
    {
     "name": "stdout",
     "output_type": "stream",
     "text": [
      "X (49424, 11)\n",
      "y (49424,)\n"
     ]
    }
   ],
   "source": [
    "print(\"X\", X_smote.shape)\n",
    "print(\"y\", y_smote.shape)"
   ]
  },
  {
   "cell_type": "code",
   "execution_count": 26,
   "metadata": {},
   "outputs": [],
   "source": [
    "X_train_smote, X_test_smote, y_train_smote, y_test_smote = train_test_split(X_smote, y_smote, test_size=0.25, random_state=10)"
   ]
  },
  {
   "cell_type": "code",
   "execution_count": 27,
   "metadata": {},
   "outputs": [],
   "source": [
    "log_reg, svm, random_forest, gradient_boosting = estimators()"
   ]
  },
  {
   "cell_type": "markdown",
   "metadata": {},
   "source": [
    "### 3.2.1 Logistic Regression <a class=\"anchor\" id=\"section3.2.1\"></a>"
   ]
  },
  {
   "cell_type": "code",
   "execution_count": 28,
   "metadata": {},
   "outputs": [
    {
     "data": {
      "image/png": "[encoded data removed]",
      "text/plain": [
       "<Figure size 432x288 with 1 Axes>"
      ]
     },
     "metadata": {
      "needs_background": "light"
     },
     "output_type": "display_data"
    }
   ],
   "source": [
    "scores, plt = get_metrics(X_train_smote, X_test_smote, y_train_smote, y_test_smote, log_reg)"
   ]
  },
  {
   "cell_type": "code",
   "execution_count": 29,
   "metadata": {},
   "outputs": [
    {
     "data": {
      "text/html": [
       "<div>\n",
       "<style scoped>\n",
       "    .dataframe tbody tr th:only-of-type {\n",
       "        vertical-align: middle;\n",
       "    }\n",
       "\n",
       "    .dataframe tbody tr th {\n",
       "        vertical-align: top;\n",
       "    }\n",
       "\n",
       "    .dataframe thead th {\n",
       "        text-align: right;\n",
       "    }\n",
       "</style>\n",
       "<table border=\"1\" class=\"dataframe\">\n",
       "  <thead>\n",
       "    <tr style=\"text-align: right;\">\n",
       "      <th></th>\n",
       "      <th>Sensitivity</th>\n",
       "      <th>Specificity</th>\n",
       "      <th>Accuracy</th>\n",
       "    </tr>\n",
       "  </thead>\n",
       "  <tbody>\n",
       "    <tr>\n",
       "      <th>Score</th>\n",
       "      <td>0.599455</td>\n",
       "      <td>0.568554</td>\n",
       "      <td>0.58417</td>\n",
       "    </tr>\n",
       "  </tbody>\n",
       "</table>\n",
       "</div>"
      ],
      "text/plain": [
       "       Sensitivity  Specificity  Accuracy\n",
       "Score     0.599455     0.568554   0.58417"
      ]
     },
     "execution_count": 29,
     "metadata": {},
     "output_type": "execute_result"
    }
   ],
   "source": [
    "smote_res = display_df(scores)\n",
    "smote_res"
   ]
  },
  {
   "cell_type": "markdown",
   "metadata": {},
   "source": [
    "### 3.2.2 SVM <a class=\"anchor\" id=\"section3.2.2\"></a>"
   ]
  },
  {
   "cell_type": "code",
   "execution_count": 30,
   "metadata": {},
   "outputs": [
    {
     "data": {
      "image/png": "[encoded data removed]",
      "text/plain": [
       "<Figure size 432x288 with 1 Axes>"
      ]
     },
     "metadata": {
      "needs_background": "light"
     },
     "output_type": "display_data"
    }
   ],
   "source": [
    "scores, plt = get_metrics(X_train_smote, X_test_smote, y_train_smote, y_test_smote, svm)"
   ]
  },
  {
   "cell_type": "code",
   "execution_count": 31,
   "metadata": {},
   "outputs": [
    {
     "data": {
      "text/html": [
       "<div>\n",
       "<style scoped>\n",
       "    .dataframe tbody tr th:only-of-type {\n",
       "        vertical-align: middle;\n",
       "    }\n",
       "\n",
       "    .dataframe tbody tr th {\n",
       "        vertical-align: top;\n",
       "    }\n",
       "\n",
       "    .dataframe thead th {\n",
       "        text-align: right;\n",
       "    }\n",
       "</style>\n",
       "<table border=\"1\" class=\"dataframe\">\n",
       "  <thead>\n",
       "    <tr style=\"text-align: right;\">\n",
       "      <th></th>\n",
       "      <th>Sensitivity</th>\n",
       "      <th>Specificity</th>\n",
       "      <th>Accuracy</th>\n",
       "    </tr>\n",
       "  </thead>\n",
       "  <tbody>\n",
       "    <tr>\n",
       "      <th>Score</th>\n",
       "      <td>0.608264</td>\n",
       "      <td>0.555792</td>\n",
       "      <td>0.582308</td>\n",
       "    </tr>\n",
       "  </tbody>\n",
       "</table>\n",
       "</div>"
      ],
      "text/plain": [
       "       Sensitivity  Specificity  Accuracy\n",
       "Score     0.608264     0.555792  0.582308"
      ]
     },
     "execution_count": 31,
     "metadata": {},
     "output_type": "execute_result"
    }
   ],
   "source": [
    "temp = display_df(scores)\n",
    "temp"
   ]
  },
  {
   "cell_type": "code",
   "execution_count": 32,
   "metadata": {},
   "outputs": [],
   "source": [
    "smote_res = smote_res.append(temp)"
   ]
  },
  {
   "cell_type": "markdown",
   "metadata": {},
   "source": [
    "### 3.2.3 Random Forest <a class=\"anchor\" id=\"section3.2.3\"></a>"
   ]
  },
  {
   "cell_type": "code",
   "execution_count": 33,
   "metadata": {},
   "outputs": [
    {
     "data": {
      "image/png": "[encoded data removed]",
      "text/plain": [
       "<Figure size 432x288 with 1 Axes>"
      ]
     },
     "metadata": {
      "needs_background": "light"
     },
     "output_type": "display_data"
    }
   ],
   "source": [
    "scores, plt = get_metrics(X_train_smote, X_test_smote, y_train_smote, y_test_smote, random_forest)"
   ]
  },
  {
   "cell_type": "code",
   "execution_count": 34,
   "metadata": {},
   "outputs": [
    {
     "data": {
      "text/html": [
       "<div>\n",
       "<style scoped>\n",
       "    .dataframe tbody tr th:only-of-type {\n",
       "        vertical-align: middle;\n",
       "    }\n",
       "\n",
       "    .dataframe tbody tr th {\n",
       "        vertical-align: top;\n",
       "    }\n",
       "\n",
       "    .dataframe thead th {\n",
       "        text-align: right;\n",
       "    }\n",
       "</style>\n",
       "<table border=\"1\" class=\"dataframe\">\n",
       "  <thead>\n",
       "    <tr style=\"text-align: right;\">\n",
       "      <th></th>\n",
       "      <th>Sensitivity</th>\n",
       "      <th>Specificity</th>\n",
       "      <th>Accuracy</th>\n",
       "    </tr>\n",
       "  </thead>\n",
       "  <tbody>\n",
       "    <tr>\n",
       "      <th>Score</th>\n",
       "      <td>0.900705</td>\n",
       "      <td>0.818063</td>\n",
       "      <td>0.859825</td>\n",
       "    </tr>\n",
       "  </tbody>\n",
       "</table>\n",
       "</div>"
      ],
      "text/plain": [
       "       Sensitivity  Specificity  Accuracy\n",
       "Score     0.900705     0.818063  0.859825"
      ]
     },
     "execution_count": 34,
     "metadata": {},
     "output_type": "execute_result"
    }
   ],
   "source": [
    "temp = display_df(scores)\n",
    "temp"
   ]
  },
  {
   "cell_type": "code",
   "execution_count": 35,
   "metadata": {},
   "outputs": [],
   "source": [
    "smote_res = smote_res.append(temp)"
   ]
  },
  {
   "cell_type": "markdown",
   "metadata": {},
   "source": [
    "### 3.2.4 Gradient Tree Boosting <a class=\"anchor\" id=\"section3.2.4\"></a>"
   ]
  },
  {
   "cell_type": "code",
   "execution_count": 36,
   "metadata": {},
   "outputs": [
    {
     "data": {
      "image/png": "[encoded data removed]",
      "text/plain": [
       "<Figure size 432x288 with 1 Axes>"
      ]
     },
     "metadata": {
      "needs_background": "light"
     },
     "output_type": "display_data"
    }
   ],
   "source": [
    "scores, plt = get_metrics(X_train_smote, X_test_smote, y_train_smote, y_test_smote, gradient_boosting)"
   ]
  },
  {
   "cell_type": "code",
   "execution_count": 37,
   "metadata": {},
   "outputs": [
    {
     "data": {
      "text/html": [
       "<div>\n",
       "<style scoped>\n",
       "    .dataframe tbody tr th:only-of-type {\n",
       "        vertical-align: middle;\n",
       "    }\n",
       "\n",
       "    .dataframe tbody tr th {\n",
       "        vertical-align: top;\n",
       "    }\n",
       "\n",
       "    .dataframe thead th {\n",
       "        text-align: right;\n",
       "    }\n",
       "</style>\n",
       "<table border=\"1\" class=\"dataframe\">\n",
       "  <thead>\n",
       "    <tr style=\"text-align: right;\">\n",
       "      <th></th>\n",
       "      <th>Sensitivity</th>\n",
       "      <th>Specificity</th>\n",
       "      <th>Accuracy</th>\n",
       "    </tr>\n",
       "  </thead>\n",
       "  <tbody>\n",
       "    <tr>\n",
       "      <th>Score</th>\n",
       "      <td>0.829436</td>\n",
       "      <td>0.831643</td>\n",
       "      <td>0.830528</td>\n",
       "    </tr>\n",
       "  </tbody>\n",
       "</table>\n",
       "</div>"
      ],
      "text/plain": [
       "       Sensitivity  Specificity  Accuracy\n",
       "Score     0.829436     0.831643  0.830528"
      ]
     },
     "execution_count": 37,
     "metadata": {},
     "output_type": "execute_result"
    }
   ],
   "source": [
    "temp = display_df(scores)\n",
    "temp"
   ]
  },
  {
   "cell_type": "code",
   "execution_count": 38,
   "metadata": {},
   "outputs": [],
   "source": [
    "smote_res = smote_res.append(temp)"
   ]
  },
  {
   "cell_type": "markdown",
   "metadata": {},
   "source": [
    "***"
   ]
  },
  {
   "cell_type": "markdown",
   "metadata": {},
   "source": [
    "## 3.3 Random Oversampling <a class=\"anchor\" id=\"section3.3\"></a>"
   ]
  },
  {
   "cell_type": "markdown",
   "metadata": {},
   "source": [
    "Random oversampling replicates the data of the minority class to form a balanced dataset."
   ]
  },
  {
   "cell_type": "code",
   "execution_count": 39,
   "metadata": {},
   "outputs": [],
   "source": [
    "X_over, y_over = RandomOverSampler().fit_resample(features, label)"
   ]
  },
  {
   "cell_type": "code",
   "execution_count": 40,
   "metadata": {},
   "outputs": [
    {
     "name": "stdout",
     "output_type": "stream",
     "text": [
      "X (49424, 11)\n",
      "y (49424,)\n"
     ]
    }
   ],
   "source": [
    "print(\"X\", X_over.shape)\n",
    "print(\"y\", y_over.shape)"
   ]
  },
  {
   "cell_type": "code",
   "execution_count": 41,
   "metadata": {},
   "outputs": [],
   "source": [
    "X_train_over, X_test_over, y_train_over, y_test_over = train_test_split(X_over, y_over, test_size=0.25, random_state=10)"
   ]
  },
  {
   "cell_type": "code",
   "execution_count": 42,
   "metadata": {},
   "outputs": [],
   "source": [
    "log_reg, svm, random_forest, gradient_boosting = estimators()"
   ]
  },
  {
   "cell_type": "markdown",
   "metadata": {},
   "source": [
    "### 3.3.1 Logistic Regression <a class=\"anchor\" id=\"section3.3.1\"></a>"
   ]
  },
  {
   "cell_type": "code",
   "execution_count": 43,
   "metadata": {},
   "outputs": [
    {
     "data": {
      "image/png": "[encoded data removed]",
      "text/plain": [
       "<Figure size 432x288 with 1 Axes>"
      ]
     },
     "metadata": {
      "needs_background": "light"
     },
     "output_type": "display_data"
    }
   ],
   "source": [
    "scores, plt = get_metrics(X_train_over, X_test_over, y_train_over, y_test_over, log_reg)"
   ]
  },
  {
   "cell_type": "code",
   "execution_count": 44,
   "metadata": {},
   "outputs": [
    {
     "data": {
      "text/html": [
       "<div>\n",
       "<style scoped>\n",
       "    .dataframe tbody tr th:only-of-type {\n",
       "        vertical-align: middle;\n",
       "    }\n",
       "\n",
       "    .dataframe tbody tr th {\n",
       "        vertical-align: top;\n",
       "    }\n",
       "\n",
       "    .dataframe thead th {\n",
       "        text-align: right;\n",
       "    }\n",
       "</style>\n",
       "<table border=\"1\" class=\"dataframe\">\n",
       "  <thead>\n",
       "    <tr style=\"text-align: right;\">\n",
       "      <th></th>\n",
       "      <th>Sensitivity</th>\n",
       "      <th>Specificity</th>\n",
       "      <th>Accuracy</th>\n",
       "    </tr>\n",
       "  </thead>\n",
       "  <tbody>\n",
       "    <tr>\n",
       "      <th>Score</th>\n",
       "      <td>0.572069</td>\n",
       "      <td>0.60913</td>\n",
       "      <td>0.590401</td>\n",
       "    </tr>\n",
       "  </tbody>\n",
       "</table>\n",
       "</div>"
      ],
      "text/plain": [
       "       Sensitivity  Specificity  Accuracy\n",
       "Score     0.572069      0.60913  0.590401"
      ]
     },
     "execution_count": 44,
     "metadata": {},
     "output_type": "execute_result"
    }
   ],
   "source": [
    "over_res = display_df(scores)\n",
    "over_res"
   ]
  },
  {
   "cell_type": "markdown",
   "metadata": {},
   "source": [
    "### 3.3.2 SVM <a class=\"anchor\" id=\"section3.3.2\"></a>"
   ]
  },
  {
   "cell_type": "code",
   "execution_count": 45,
   "metadata": {},
   "outputs": [
    {
     "data": {
      "image/png": "[encoded data removed]",
      "text/plain": [
       "<Figure size 432x288 with 1 Axes>"
      ]
     },
     "metadata": {
      "needs_background": "light"
     },
     "output_type": "display_data"
    }
   ],
   "source": [
    "scores, plt = get_metrics(X_train_over, X_test_over, y_train_over, y_test_over, svm)"
   ]
  },
  {
   "cell_type": "code",
   "execution_count": 46,
   "metadata": {},
   "outputs": [
    {
     "data": {
      "text/html": [
       "<div>\n",
       "<style scoped>\n",
       "    .dataframe tbody tr th:only-of-type {\n",
       "        vertical-align: middle;\n",
       "    }\n",
       "\n",
       "    .dataframe tbody tr th {\n",
       "        vertical-align: top;\n",
       "    }\n",
       "\n",
       "    .dataframe thead th {\n",
       "        text-align: right;\n",
       "    }\n",
       "</style>\n",
       "<table border=\"1\" class=\"dataframe\">\n",
       "  <thead>\n",
       "    <tr style=\"text-align: right;\">\n",
       "      <th></th>\n",
       "      <th>Sensitivity</th>\n",
       "      <th>Specificity</th>\n",
       "      <th>Accuracy</th>\n",
       "    </tr>\n",
       "  </thead>\n",
       "  <tbody>\n",
       "    <tr>\n",
       "      <th>Score</th>\n",
       "      <td>0.609225</td>\n",
       "      <td>0.562827</td>\n",
       "      <td>0.586274</td>\n",
       "    </tr>\n",
       "  </tbody>\n",
       "</table>\n",
       "</div>"
      ],
      "text/plain": [
       "       Sensitivity  Specificity  Accuracy\n",
       "Score     0.609225     0.562827  0.586274"
      ]
     },
     "execution_count": 46,
     "metadata": {},
     "output_type": "execute_result"
    }
   ],
   "source": [
    "temp = display_df(scores)\n",
    "temp"
   ]
  },
  {
   "cell_type": "code",
   "execution_count": 47,
   "metadata": {},
   "outputs": [],
   "source": [
    "over_res = over_res.append(temp)"
   ]
  },
  {
   "cell_type": "markdown",
   "metadata": {},
   "source": [
    "### 3.3.3 Random Forest <a class=\"anchor\" id=\"section3.3.3\"></a>"
   ]
  },
  {
   "cell_type": "code",
   "execution_count": 48,
   "metadata": {},
   "outputs": [
    {
     "data": {
      "image/png": "[encoded data removed]",
      "text/plain": [
       "<Figure size 432x288 with 1 Axes>"
      ]
     },
     "metadata": {
      "needs_background": "light"
     },
     "output_type": "display_data"
    }
   ],
   "source": [
    "scores, plt = get_metrics(X_train_over, X_test_over, y_train_over, y_test_over, random_forest)"
   ]
  },
  {
   "cell_type": "code",
   "execution_count": 49,
   "metadata": {},
   "outputs": [
    {
     "data": {
      "text/html": [
       "<div>\n",
       "<style scoped>\n",
       "    .dataframe tbody tr th:only-of-type {\n",
       "        vertical-align: middle;\n",
       "    }\n",
       "\n",
       "    .dataframe tbody tr th {\n",
       "        vertical-align: top;\n",
       "    }\n",
       "\n",
       "    .dataframe thead th {\n",
       "        text-align: right;\n",
       "    }\n",
       "</style>\n",
       "<table border=\"1\" class=\"dataframe\">\n",
       "  <thead>\n",
       "    <tr style=\"text-align: right;\">\n",
       "      <th></th>\n",
       "      <th>Sensitivity</th>\n",
       "      <th>Specificity</th>\n",
       "      <th>Accuracy</th>\n",
       "    </tr>\n",
       "  </thead>\n",
       "  <tbody>\n",
       "    <tr>\n",
       "      <th>Score</th>\n",
       "      <td>0.84417</td>\n",
       "      <td>0.686846</td>\n",
       "      <td>0.766348</td>\n",
       "    </tr>\n",
       "  </tbody>\n",
       "</table>\n",
       "</div>"
      ],
      "text/plain": [
       "       Sensitivity  Specificity  Accuracy\n",
       "Score      0.84417     0.686846  0.766348"
      ]
     },
     "execution_count": 49,
     "metadata": {},
     "output_type": "execute_result"
    }
   ],
   "source": [
    "temp = display_df(scores)\n",
    "temp"
   ]
  },
  {
   "cell_type": "code",
   "execution_count": 50,
   "metadata": {},
   "outputs": [],
   "source": [
    "over_res = over_res.append(temp)"
   ]
  },
  {
   "cell_type": "markdown",
   "metadata": {},
   "source": [
    "### 3.3.4 Gradient Tree Boosting <a class=\"anchor\" id=\"section3.3.4\"></a>"
   ]
  },
  {
   "cell_type": "code",
   "execution_count": 51,
   "metadata": {},
   "outputs": [
    {
     "data": {
      "image/png": "[encoded data removed]",
      "text/plain": [
       "<Figure size 432x288 with 1 Axes>"
      ]
     },
     "metadata": {
      "needs_background": "light"
     },
     "output_type": "display_data"
    }
   ],
   "source": [
    "scores, plt = get_metrics(X_train_over, X_test_over, y_train_over, y_test_over, gradient_boosting)"
   ]
  },
  {
   "cell_type": "code",
   "execution_count": 52,
   "metadata": {},
   "outputs": [
    {
     "data": {
      "text/html": [
       "<div>\n",
       "<style scoped>\n",
       "    .dataframe tbody tr th:only-of-type {\n",
       "        vertical-align: middle;\n",
       "    }\n",
       "\n",
       "    .dataframe tbody tr th {\n",
       "        vertical-align: top;\n",
       "    }\n",
       "\n",
       "    .dataframe thead th {\n",
       "        text-align: right;\n",
       "    }\n",
       "</style>\n",
       "<table border=\"1\" class=\"dataframe\">\n",
       "  <thead>\n",
       "    <tr style=\"text-align: right;\">\n",
       "      <th></th>\n",
       "      <th>Sensitivity</th>\n",
       "      <th>Specificity</th>\n",
       "      <th>Accuracy</th>\n",
       "    </tr>\n",
       "  </thead>\n",
       "  <tbody>\n",
       "    <tr>\n",
       "      <th>Score</th>\n",
       "      <td>0.798046</td>\n",
       "      <td>0.633671</td>\n",
       "      <td>0.716737</td>\n",
       "    </tr>\n",
       "  </tbody>\n",
       "</table>\n",
       "</div>"
      ],
      "text/plain": [
       "       Sensitivity  Specificity  Accuracy\n",
       "Score     0.798046     0.633671  0.716737"
      ]
     },
     "execution_count": 52,
     "metadata": {},
     "output_type": "execute_result"
    }
   ],
   "source": [
    "temp = display_df(scores)\n",
    "temp"
   ]
  },
  {
   "cell_type": "code",
   "execution_count": 53,
   "metadata": {},
   "outputs": [],
   "source": [
    "over_res = over_res.append(temp)"
   ]
  },
  {
   "cell_type": "markdown",
   "metadata": {},
   "source": [
    "***"
   ]
  },
  {
   "cell_type": "markdown",
   "metadata": {},
   "source": [
    "## 3.4 Random Undersampling <a class=\"anchor\" id=\"section3.4\"></a>"
   ]
  },
  {
   "cell_type": "markdown",
   "metadata": {},
   "source": [
    "Random oversampling removes data of the majority class to form a balanced dataset. This may lead to a great loss of information."
   ]
  },
  {
   "cell_type": "code",
   "execution_count": 54,
   "metadata": {},
   "outputs": [],
   "source": [
    "X_under, y_under = RandomUnderSampler().fit_resample(features, label)"
   ]
  },
  {
   "cell_type": "code",
   "execution_count": 55,
   "metadata": {},
   "outputs": [
    {
     "name": "stdout",
     "output_type": "stream",
     "text": [
      "X (844, 11)\n",
      "y (844,)\n"
     ]
    }
   ],
   "source": [
    "print(\"X\", X_under.shape)\n",
    "print(\"y\", y_under.shape)"
   ]
  },
  {
   "cell_type": "code",
   "execution_count": 56,
   "metadata": {},
   "outputs": [],
   "source": [
    "X_train_under, X_test_under, y_train_under, y_test_under = train_test_split(X_under, y_under, test_size=0.25, random_state=10)"
   ]
  },
  {
   "cell_type": "code",
   "execution_count": 57,
   "metadata": {},
   "outputs": [],
   "source": [
    "log_reg, svm, random_forest, gradient_boosting = estimators()"
   ]
  },
  {
   "cell_type": "markdown",
   "metadata": {},
   "source": [
    "### 3.4.1 Logistic Regression <a class=\"anchor\" id=\"section3.4.1\"></a>"
   ]
  },
  {
   "cell_type": "code",
   "execution_count": 58,
   "metadata": {},
   "outputs": [
    {
     "data": {
      "image/png": "[encoded data removed]",
      "text/plain": [
       "<Figure size 432x288 with 1 Axes>"
      ]
     },
     "metadata": {
      "needs_background": "light"
     },
     "output_type": "display_data"
    }
   ],
   "source": [
    "scores, plt = get_metrics(X_train_under, X_test_under, y_train_under, y_test_under, log_reg)"
   ]
  },
  {
   "cell_type": "code",
   "execution_count": 59,
   "metadata": {},
   "outputs": [
    {
     "data": {
      "text/html": [
       "<div>\n",
       "<style scoped>\n",
       "    .dataframe tbody tr th:only-of-type {\n",
       "        vertical-align: middle;\n",
       "    }\n",
       "\n",
       "    .dataframe tbody tr th {\n",
       "        vertical-align: top;\n",
       "    }\n",
       "\n",
       "    .dataframe thead th {\n",
       "        text-align: right;\n",
       "    }\n",
       "</style>\n",
       "<table border=\"1\" class=\"dataframe\">\n",
       "  <thead>\n",
       "    <tr style=\"text-align: right;\">\n",
       "      <th></th>\n",
       "      <th>Sensitivity</th>\n",
       "      <th>Specificity</th>\n",
       "      <th>Accuracy</th>\n",
       "    </tr>\n",
       "  </thead>\n",
       "  <tbody>\n",
       "    <tr>\n",
       "      <th>Score</th>\n",
       "      <td>0.623762</td>\n",
       "      <td>0.536364</td>\n",
       "      <td>0.578199</td>\n",
       "    </tr>\n",
       "  </tbody>\n",
       "</table>\n",
       "</div>"
      ],
      "text/plain": [
       "       Sensitivity  Specificity  Accuracy\n",
       "Score     0.623762     0.536364  0.578199"
      ]
     },
     "execution_count": 59,
     "metadata": {},
     "output_type": "execute_result"
    }
   ],
   "source": [
    "under_res = display_df(scores)\n",
    "under_res"
   ]
  },
  {
   "cell_type": "markdown",
   "metadata": {},
   "source": [
    "### 3.4.2 SVM <a class=\"anchor\" id=\"section3.4.2\"></a>"
   ]
  },
  {
   "cell_type": "code",
   "execution_count": 60,
   "metadata": {},
   "outputs": [
    {
     "data": {
      "image/png": "[encoded data removed]",
      "text/plain": [
       "<Figure size 432x288 with 1 Axes>"
      ]
     },
     "metadata": {
      "needs_background": "light"
     },
     "output_type": "display_data"
    }
   ],
   "source": [
    "scores, plt = get_metrics(X_train_under, X_test_under, y_train_under, y_test_under, svm)"
   ]
  },
  {
   "cell_type": "code",
   "execution_count": 61,
   "metadata": {},
   "outputs": [
    {
     "data": {
      "text/html": [
       "<div>\n",
       "<style scoped>\n",
       "    .dataframe tbody tr th:only-of-type {\n",
       "        vertical-align: middle;\n",
       "    }\n",
       "\n",
       "    .dataframe tbody tr th {\n",
       "        vertical-align: top;\n",
       "    }\n",
       "\n",
       "    .dataframe thead th {\n",
       "        text-align: right;\n",
       "    }\n",
       "</style>\n",
       "<table border=\"1\" class=\"dataframe\">\n",
       "  <thead>\n",
       "    <tr style=\"text-align: right;\">\n",
       "      <th></th>\n",
       "      <th>Sensitivity</th>\n",
       "      <th>Specificity</th>\n",
       "      <th>Accuracy</th>\n",
       "    </tr>\n",
       "  </thead>\n",
       "  <tbody>\n",
       "    <tr>\n",
       "      <th>Score</th>\n",
       "      <td>0.564356</td>\n",
       "      <td>0.609091</td>\n",
       "      <td>0.587678</td>\n",
       "    </tr>\n",
       "  </tbody>\n",
       "</table>\n",
       "</div>"
      ],
      "text/plain": [
       "       Sensitivity  Specificity  Accuracy\n",
       "Score     0.564356     0.609091  0.587678"
      ]
     },
     "execution_count": 61,
     "metadata": {},
     "output_type": "execute_result"
    }
   ],
   "source": [
    "temp = display_df(scores)\n",
    "temp"
   ]
  },
  {
   "cell_type": "code",
   "execution_count": 62,
   "metadata": {},
   "outputs": [],
   "source": [
    "under_res = under_res.append(temp)"
   ]
  },
  {
   "cell_type": "markdown",
   "metadata": {},
   "source": [
    "### 3.4.3 Random Forest <a class=\"anchor\" id=\"section3.4.3\"></a>"
   ]
  },
  {
   "cell_type": "code",
   "execution_count": 63,
   "metadata": {},
   "outputs": [
    {
     "data": {
      "image/png": "[encoded data removed]",
      "text/plain": [
       "<Figure size 432x288 with 1 Axes>"
      ]
     },
     "metadata": {
      "needs_background": "light"
     },
     "output_type": "display_data"
    }
   ],
   "source": [
    "scores, plt = get_metrics(X_train_under, X_test_under, y_train_under, y_test_under, random_forest)"
   ]
  },
  {
   "cell_type": "code",
   "execution_count": 64,
   "metadata": {},
   "outputs": [
    {
     "data": {
      "text/html": [
       "<div>\n",
       "<style scoped>\n",
       "    .dataframe tbody tr th:only-of-type {\n",
       "        vertical-align: middle;\n",
       "    }\n",
       "\n",
       "    .dataframe tbody tr th {\n",
       "        vertical-align: top;\n",
       "    }\n",
       "\n",
       "    .dataframe thead th {\n",
       "        text-align: right;\n",
       "    }\n",
       "</style>\n",
       "<table border=\"1\" class=\"dataframe\">\n",
       "  <thead>\n",
       "    <tr style=\"text-align: right;\">\n",
       "      <th></th>\n",
       "      <th>Sensitivity</th>\n",
       "      <th>Specificity</th>\n",
       "      <th>Accuracy</th>\n",
       "    </tr>\n",
       "  </thead>\n",
       "  <tbody>\n",
       "    <tr>\n",
       "      <th>Score</th>\n",
       "      <td>0.643564</td>\n",
       "      <td>0.618182</td>\n",
       "      <td>0.630332</td>\n",
       "    </tr>\n",
       "  </tbody>\n",
       "</table>\n",
       "</div>"
      ],
      "text/plain": [
       "       Sensitivity  Specificity  Accuracy\n",
       "Score     0.643564     0.618182  0.630332"
      ]
     },
     "execution_count": 64,
     "metadata": {},
     "output_type": "execute_result"
    }
   ],
   "source": [
    "temp = display_df(scores)\n",
    "temp"
   ]
  },
  {
   "cell_type": "code",
   "execution_count": 65,
   "metadata": {},
   "outputs": [],
   "source": [
    "under_res = under_res.append(temp)"
   ]
  },
  {
   "cell_type": "markdown",
   "metadata": {},
   "source": [
    "### 3.4.4 Gradient Tree Boosting <a class=\"anchor\" id=\"section3.4.4\"></a>"
   ]
  },
  {
   "cell_type": "code",
   "execution_count": 66,
   "metadata": {},
   "outputs": [
    {
     "data": {
      "image/png": "[encoded data removed]",
      "text/plain": [
       "<Figure size 432x288 with 1 Axes>"
      ]
     },
     "metadata": {
      "needs_background": "light"
     },
     "output_type": "display_data"
    }
   ],
   "source": [
    "scores, plt = get_metrics(X_train_under, X_test_under, y_train_under, y_test_under, gradient_boosting)"
   ]
  },
  {
   "cell_type": "code",
   "execution_count": 67,
   "metadata": {},
   "outputs": [
    {
     "data": {
      "text/html": [
       "<div>\n",
       "<style scoped>\n",
       "    .dataframe tbody tr th:only-of-type {\n",
       "        vertical-align: middle;\n",
       "    }\n",
       "\n",
       "    .dataframe tbody tr th {\n",
       "        vertical-align: top;\n",
       "    }\n",
       "\n",
       "    .dataframe thead th {\n",
       "        text-align: right;\n",
       "    }\n",
       "</style>\n",
       "<table border=\"1\" class=\"dataframe\">\n",
       "  <thead>\n",
       "    <tr style=\"text-align: right;\">\n",
       "      <th></th>\n",
       "      <th>Sensitivity</th>\n",
       "      <th>Specificity</th>\n",
       "      <th>Accuracy</th>\n",
       "    </tr>\n",
       "  </thead>\n",
       "  <tbody>\n",
       "    <tr>\n",
       "      <th>Score</th>\n",
       "      <td>0.643564</td>\n",
       "      <td>0.590909</td>\n",
       "      <td>0.616114</td>\n",
       "    </tr>\n",
       "  </tbody>\n",
       "</table>\n",
       "</div>"
      ],
      "text/plain": [
       "       Sensitivity  Specificity  Accuracy\n",
       "Score     0.643564     0.590909  0.616114"
      ]
     },
     "execution_count": 67,
     "metadata": {},
     "output_type": "execute_result"
    }
   ],
   "source": [
    "temp = display_df(scores)\n",
    "temp"
   ]
  },
  {
   "cell_type": "code",
   "execution_count": 68,
   "metadata": {},
   "outputs": [],
   "source": [
    "under_res = under_res.append(temp)"
   ]
  },
  {
   "cell_type": "markdown",
   "metadata": {},
   "source": [
    "***"
   ]
  },
  {
   "cell_type": "markdown",
   "metadata": {},
   "source": [
    "# 4 Comparison <a class=\"anchor\" id=\"section4\"></a>"
   ]
  },
  {
   "cell_type": "markdown",
   "metadata": {},
   "source": [
    "The following boxplots show the results of each metric per method."
   ]
  },
  {
   "cell_type": "code",
   "execution_count": 69,
   "metadata": {},
   "outputs": [],
   "source": [
    "og_res['Method'] = 'None'\n",
    "smote_res['Method'] = 'SMOTE'\n",
    "over_res['Method'] = 'Oversampling'\n",
    "under_res['Method'] = 'Undersampling'"
   ]
  },
  {
   "cell_type": "code",
   "execution_count": 70,
   "metadata": {},
   "outputs": [],
   "source": [
    "res = og_res.append(smote_res)\n",
    "res = res.append(over_res)\n",
    "res = res.append(under_res)"
   ]
  },
  {
   "cell_type": "code",
   "execution_count": 71,
   "metadata": {},
   "outputs": [
    {
     "data": {
      "image/png": "[encoded data removed]",
      "text/plain": [
       "<Figure size 576x432 with 1 Axes>"
      ]
     },
     "metadata": {
      "needs_background": "light"
     },
     "output_type": "display_data"
    }
   ],
   "source": [
    "plt.figure(figsize=(8, 6))\n",
    "sns.boxplot(x='Method', y='Sensitivity', data=res, palette='Blues')\n",
    "plt.title('Sensitivity per Method')\n",
    "plt.grid(axis='y', alpha=0.5, color='lightgrey')\n",
    "plt.show()"
   ]
  },
  {
   "cell_type": "code",
   "execution_count": 72,
   "metadata": {},
   "outputs": [
    {
     "data": {
      "image/png": "[encoded data removed]",
      "text/plain": [
       "<Figure size 576x432 with 1 Axes>"
      ]
     },
     "metadata": {
      "needs_background": "light"
     },
     "output_type": "display_data"
    }
   ],
   "source": [
    "plt.figure(figsize=(8, 6))\n",
    "sns.boxplot(x='Method', y='Specificity', data=res, palette='Blues')\n",
    "plt.title('Specificity per Method')\n",
    "plt.grid(axis='y', alpha=0.5, color='lightgrey')\n",
    "plt.show()"
   ]
  },
  {
   "cell_type": "code",
   "execution_count": 73,
   "metadata": {},
   "outputs": [
    {
     "data": {
      "image/png": "[encoded data removed]",
      "text/plain": [
       "<Figure size 576x432 with 1 Axes>"
      ]
     },
     "metadata": {
      "needs_background": "light"
     },
     "output_type": "display_data"
    }
   ],
   "source": [
    "plt.figure(figsize=(8, 6))\n",
    "sns.boxplot(x='Method', y='Accuracy', data=res, palette='Blues')\n",
    "plt.title('Accuracy per Method')\n",
    "plt.grid(axis='y', alpha=0.5, color='lightgrey')\n",
    "plt.show()"
   ]
  },
  {
   "cell_type": "markdown",
   "metadata": {},
   "source": [
    "### Conclusion"
   ]
  },
  {
   "cell_type": "markdown",
   "metadata": {},
   "source": [
    "Applying the algorithms on the original dataset (section 3.1) resulted in perfect prediction of the majority class (aka not fraud), which then led to very high accuracy scores. However, the sensitivity score was extremely low - around 0.047 - which means that the models were very bad at predicting the fraud cases.\n",
    "\n",
    "Using the SMOTE method (section 3.2) resulted in much better predictions when applying the Random Forest and Gradient Tree Boosting algorithms, which had sensitivity scores of 0.90 and 0.83, respectively. However, the Logistic Regression and SVM algorithms did not perform as well, both having a sensitivity score of around 0.6. Still, they did a better job in identifying the minority class using the SMOTE method, compared to the original dataset.\n",
    "\n",
    "The random oversampling method (section 3.3) led to an overall better identification of the minority class. The best score was obtained by the Random Forest algorithm - 0.84, followed by the Gradient Tree Boosting with 0.79. The other algorithms did not perform as well. The sensitivity score for SVM was 0.61, and Logistic Regression was the worst, with 0.57.\n",
    "\n",
    "The random undersampling method (section 3.4) led to an overall better identification of the minority class as well but it did not identify the majority class so well (i.e. the specifity scores were lower). The best score was again obtained by the Random Forest and Gradient Tree Boosting algorithms with 0.64, followed by Logistic Regression with 0.62, and SVM was the worst, with sensitivity score of 0.56.\n",
    "\n",
    "Overall, it seems like oversampling methods paired with the Random Forest algorithm lead to better results, compared to undersampling, which suffer from a great loss of information."
   ]
  },
  {
   "cell_type": "markdown",
   "metadata": {},
   "source": [
    "***"
   ]
  }
 ],
 "metadata": {
  "kernelspec": {
   "display_name": "Python 3",
   "language": "python",
   "name": "python3"
  },
  "language_info": {
   "codemirror_mode": {
    "name": "ipython",
    "version": 3
   },
   "file_extension": ".py",
   "mimetype": "text/x-python",
   "name": "python",
   "nbconvert_exporter": "python",
   "pygments_lexer": "ipython3",
   "version": "3.8.5"
  }
 },
 "nbformat": 4,
 "nbformat_minor": 4
}
